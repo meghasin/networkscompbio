{
 "cells": [
  {
   "cell_type": "markdown",
   "metadata": {},
   "source": [
    "# Class 29 - Flux Balance Analysis\n",
    "\n",
    "In this exercise we'll load a simplified metabolic network for the bacteria *Escherichia coli* and find the steady-state metabolic flux through this network that maximizes the rate of cellular growth, subject to thermodynamic constraints."
   ]
  },
  {
   "cell_type": "markdown",
   "metadata": {},
   "source": [
    "Read the stoichiometric matrix from a tab-delimited data file with M rows and N columns"
   ]
  },
  {
   "cell_type": "code",
   "execution_count": 1,
   "metadata": {},
   "outputs": [
    {
     "name": "stdout",
     "output_type": "stream",
     "text": [
      "The stoichiometrix matrix has 72 rows (metabolites) and 95 columns (reactions)\n"
     ]
    }
   ],
   "source": [
    "S <- as.matrix(read.table(\"shared/ucsd_ecoli_stoich_matrix.txt\",\n",
    "                          header=TRUE,\n",
    "                          row.names=1,\n",
    "                          sep=\"\\t\",\n",
    "                          comment.char=\"\",\n",
    "                          quote=\"\",\n",
    "                          stringsAsFactors=FALSE))\n",
    "M <- nrow(S)\n",
    "N <- ncol(S)\n",
    "cat(sprintf(\"The stoichiometrix matrix has %d rows (metabolites) and %d columns (reactions)\\n\",\n",
    "             M, N))"
   ]
  },
  {
   "cell_type": "markdown",
   "metadata": {},
   "source": [
    "Read the min and max flux values, and the objective function coefficients, from a tab-delimited data file with N rows and 3 columns"
   ]
  },
  {
   "cell_type": "code",
   "execution_count": 2,
   "metadata": {},
   "outputs": [
    {
     "data": {
      "text/html": [
       "<table>\n",
       "<thead><tr><th></th><th scope=col>min</th><th scope=col>max</th><th scope=col>objective</th></tr></thead>\n",
       "<tbody>\n",
       "\t<tr><th scope=row>ACALD</th><td>-1000</td><td>1000 </td><td>0    </td></tr>\n",
       "\t<tr><th scope=row>ACALDt</th><td>-1000</td><td>1000 </td><td>0    </td></tr>\n",
       "\t<tr><th scope=row>ACKr</th><td>-1000</td><td>1000 </td><td>0    </td></tr>\n",
       "\t<tr><th scope=row>ACONTa</th><td>-1000</td><td>1000 </td><td>0    </td></tr>\n",
       "\t<tr><th scope=row>ACONTb</th><td>-1000</td><td>1000 </td><td>0    </td></tr>\n",
       "\t<tr><th scope=row>ACt2r</th><td>-1000</td><td>1000 </td><td>0    </td></tr>\n",
       "</tbody>\n",
       "</table>\n"
      ],
      "text/latex": [
       "\\begin{tabular}{r|lll}\n",
       "  & min & max & objective\\\\\n",
       "\\hline\n",
       "\tACALD & -1000 & 1000  & 0    \\\\\n",
       "\tACALDt & -1000 & 1000  & 0    \\\\\n",
       "\tACKr & -1000 & 1000  & 0    \\\\\n",
       "\tACONTa & -1000 & 1000  & 0    \\\\\n",
       "\tACONTb & -1000 & 1000  & 0    \\\\\n",
       "\tACt2r & -1000 & 1000  & 0    \\\\\n",
       "\\end{tabular}\n"
      ],
      "text/markdown": [
       "\n",
       "| <!--/--> | min | max | objective | \n",
       "|---|---|---|---|---|---|\n",
       "| ACALD | -1000 | 1000  | 0     | \n",
       "| ACALDt | -1000 | 1000  | 0     | \n",
       "| ACKr | -1000 | 1000  | 0     | \n",
       "| ACONTa | -1000 | 1000  | 0     | \n",
       "| ACONTb | -1000 | 1000  | 0     | \n",
       "| ACt2r | -1000 | 1000  | 0     | \n",
       "\n",
       "\n"
      ],
      "text/plain": [
       "       min   max  objective\n",
       "ACALD  -1000 1000 0        \n",
       "ACALDt -1000 1000 0        \n",
       "ACKr   -1000 1000 0        \n",
       "ACONTa -1000 1000 0        \n",
       "ACONTb -1000 1000 0        \n",
       "ACt2r  -1000 1000 0        "
      ]
     },
     "metadata": {},
     "output_type": "display_data"
    }
   ],
   "source": [
    "v_minmax <- as.matrix(read.table(\"shared/ucsd_ecoli_reaction_maxmin.txt\",\n",
    "                                 sep=\"\\t\",\n",
    "                                 header=TRUE,\n",
    "                                 comment.char=\"\",\n",
    "                                 row.names=1,\n",
    "                                 quote=\"\",\n",
    "                                 stringsAsFactors=FALSE))\n",
    "                      \n",
    "stopifnot(all(make.names(rownames(v_minmax)) == colnames(S)))\n",
    "\n",
    "head(v_minmax)"
   ]
  },
  {
   "cell_type": "markdown",
   "metadata": {},
   "source": [
    "Create a constraint matrix (with C rows and N columns) and a corresponding constant vector of length C, giving the right-hand-side of the inequality"
   ]
  },
  {
   "cell_type": "code",
   "execution_count": 3,
   "metadata": {},
   "outputs": [
    {
     "data": {
      "text/html": [
       "<ol class=list-inline>\n",
       "\t<li>334</li>\n",
       "\t<li>95</li>\n",
       "</ol>\n"
      ],
      "text/latex": [
       "\\begin{enumerate*}\n",
       "\\item 334\n",
       "\\item 95\n",
       "\\end{enumerate*}\n"
      ],
      "text/markdown": [
       "1. 334\n",
       "2. 95\n",
       "\n",
       "\n"
      ],
      "text/plain": [
       "[1] 334  95"
      ]
     },
     "metadata": {},
     "output_type": "display_data"
    }
   ],
   "source": [
    "Svmin <- S %*% matrix(v_minmax[,\"min\"], ncol=1)\n",
    "\n",
    "constraint_matrix <- rbind(S,\n",
    "                           S,\n",
    "                           diag(rep(1,N)),\n",
    "                           diag(rep(1,N)))\n",
    "\n",
    "constraint_rhs <- c(-Svmin,\n",
    "                    -Svmin,\n",
    "                    rep(0, N),\n",
    "                    v_minmax[,\"max\"] - v_minmax[,\"min\"])\n",
    "\n",
    "constraint_dir <- c(rep(\">=\", M),\n",
    "                    rep(\"<=\", M),\n",
    "                    rep(\">=\", N),\n",
    "                    rep(\"<=\", N))\n",
    "\n",
    "stopifnot(length(constraint_rhs) == nrow(constraint_matrix))\n",
    "stopifnot(ncol(constraint_matrix) == N)\n",
    "stopifnot(nrow(v_minmax) == N)\n",
    "\n",
    "dim(constraint_matrix)"
   ]
  },
  {
   "cell_type": "markdown",
   "metadata": {},
   "source": [
    "Find the flux value that maximizes the \"biomass\" reaction flux, consistent with the steady-state and thermodynamic constraints"
   ]
  },
  {
   "cell_type": "code",
   "execution_count": 5,
   "metadata": {},
   "outputs": [
    {
     "name": "stdout",
     "output_type": "stream",
     "text": [
      "             ACALD             ACALDt               ACKr             ACONTa \n",
      "      0.000000e+00       1.136868e-13      -2.273737e-13       6.007250e+00 \n",
      "            ACONTb              ACt2r               ADK1              AKGDH \n",
      "      6.007250e+00      -1.136868e-13       0.000000e+00       5.064376e+00 \n",
      "            AKGt2r             ALCD2x               ATPM             ATPS4r \n",
      "     -1.136868e-13      -1.136868e-13       8.390000e+00       4.551401e+01 \n",
      "Biomass_Ecoli_core               CO2t                 CS              CYTBD \n",
      "      8.739215e-01      -2.280983e+01       6.007250e+00       4.359899e+01 \n",
      "           D-LACt2                ENO            ETOHt2r           EX_ac(e) \n",
      "     -1.136868e-13       1.471614e+01      -1.136868e-13       0.000000e+00 \n",
      "       EX_acald(e)          EX_akg(e)          EX_co2(e)         EX_etoh(e) \n",
      "      0.000000e+00       0.000000e+00       2.280983e+01       0.000000e+00 \n",
      "         EX_for(e)          EX_fru(e)          EX_fum(e)          EX_glc(e) \n",
      "      0.000000e+00       0.000000e+00       0.000000e+00      -1.000000e+01 \n",
      "       EX_gln_L(e)        EX_glu_L(e)            EX_h(e)          EX_h2o(e) \n",
      "      0.000000e+00       0.000000e+00       1.753087e+01       2.917583e+01 \n",
      "       EX_lac_D(e)        EX_mal_L(e)          EX_nh4(e)           EX_o2(e) \n",
      "      0.000000e+00       0.000000e+00      -4.765319e+00      -2.179949e+01 \n",
      "          EX_pi(e)          EX_pyr(e)         EX_succ(e)                FBA \n",
      "     -3.214895e+00       0.000000e+00       0.000000e+00       7.477382e+00 \n",
      "               FBP              FORt2              FORti               FRD7 \n",
      "      0.000000e+00       0.000000e+00       0.000000e+00       0.000000e+00 \n",
      "           FRUpts2                FUM            FUMt2_2            G6PDH2r \n",
      "      0.000000e+00       5.064376e+00       0.000000e+00       4.959985e+00 \n",
      "              GAPD             GLCpts               GLNS             GLNabc \n",
      "      1.602353e+01       1.000000e+01       2.234617e-01       0.000000e+00 \n",
      "             GLUDy               GLUN              GLUSy             GLUt2r \n",
      "     -4.541857e+00       0.000000e+00       0.000000e+00      -1.136868e-13 \n",
      "               GND               H2Ot             ICDHyr                ICL \n",
      "      4.959985e+00      -2.917583e+01       6.007250e+00       0.000000e+00 \n",
      "             LDH_D               MALS            MALt2_2                MDH \n",
      "      1.136868e-13       0.000000e+00       0.000000e+00       5.064376e+00 \n",
      "               ME1                ME2             NADH16            NADTRHD \n",
      "      0.000000e+00       0.000000e+00       3.853461e+01       0.000000e+00 \n",
      "              NH4t                O2t                PDH                PFK \n",
      "      4.765319e+00       2.179949e+01       9.282533e+00       7.477382e+00 \n",
      "               PFL                PGI                PGK                PGL \n",
      "      0.000000e+00       4.860861e+00      -1.602353e+01       4.959985e+00 \n",
      "               PGM              PIt2r                PPC               PPCK \n",
      "     -1.471614e+01       3.214895e+00       2.504309e+00       0.000000e+00 \n",
      "               PPS               PTAr                PYK             PYRt2r \n",
      "      0.000000e+00       0.000000e+00       1.758177e+00       1.136868e-13 \n",
      "               RPE                RPI           SUCCt2_2             SUCCt3 \n",
      "      2.678482e+00      -2.281503e+00       0.000000e+00       0.000000e+00 \n",
      "             SUCDi             SUCOAS               TALA               THD2 \n",
      "      5.064376e+00      -5.064376e+00       1.496984e+00       0.000000e+00 \n",
      "              TKT1               TKT2                TPI \n",
      "      1.496984e+00       1.181498e+00       7.477382e+00 \n"
     ]
    }
   ],
   "source": [
    "library(lpSolve)\n",
    "lpres <- lp(\"max\",\n",
    "   objective.in=v_minmax[,\"objective\"],\n",
    "   const.mat=constraint_matrix,\n",
    "   const.dir=constraint_dir,\n",
    "   const.rhs=constraint_rhs)\n",
    "\n",
    "print(lpres$solution + v_minmax[,\"min\"])"
   ]
  },
  {
   "cell_type": "code",
   "execution_count": null,
   "metadata": {
    "collapsed": true
   },
   "outputs": [],
   "source": []
  }
 ],
 "metadata": {
  "kernelspec": {
   "display_name": "R",
   "language": "R",
   "name": "ir"
  },
  "language_info": {
   "codemirror_mode": "r",
   "file_extension": ".r",
   "mimetype": "text/x-r-source",
   "name": "R",
   "pygments_lexer": "r",
   "version": "3.4.1"
  }
 },
 "nbformat": 4,
 "nbformat_minor": 1
}
