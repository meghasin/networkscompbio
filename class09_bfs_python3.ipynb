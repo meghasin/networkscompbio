{
 "cells": [
  {
   "cell_type": "markdown",
   "metadata": {},
   "source": [
    "# CS446/546\n",
    "## Class session 9:  BFS\n",
    "Objective: write and test a function that can compute single-vertex shortest paths in an unweighted simple graph."
   ]
  },
  {
   "cell_type": "markdown",
   "metadata": {},
   "source": [
    "Make a simple 10-vertex random (Barabasi-Albert model) graph.  Set the random number seed so that the graph is always the same, for purposes of reproducibility (we want to know that the \"hub\" vertex will be vertex 2, and we will test your BFS function starting at that \"hub\" vertex)."
   ]
  },
  {
   "cell_type": "code",
   "execution_count": 8,
   "metadata": {},
   "outputs": [],
   "source": [
    "import random\n",
    "random.seed(1337)\n",
    "import igraph\n",
    "g = igraph.Graph.Barabasi(10)   "
   ]
  },
  {
   "cell_type": "code",
   "execution_count": 9,
   "metadata": {},
   "outputs": [
    {
     "data": {
      "image/svg+xml": [
       "<?xml version=\"1.0\" encoding=\"UTF-8\"?>\n",
       "<svg xmlns=\"http://www.w3.org/2000/svg\" xmlns:xlink=\"http://www.w3.org/1999/xlink\" width=\"600pt\" height=\"600pt\" viewBox=\"0 0 600 600\" version=\"1.1\">\n",
       "<g id=\"surface8\">\n",
       "<rect x=\"0\" y=\"0\" width=\"600\" height=\"600\" style=\"fill:rgb(100%,100%,100%);fill-opacity:1;stroke:none;\"/>\n",
       "<path style=\"fill:none;stroke-width:1;stroke-linecap:butt;stroke-linejoin:miter;stroke:rgb(26.666667%,26.666667%,26.666667%);stroke-opacity:1;stroke-miterlimit:10;\" d=\"M 169.847656 376.589844 L 318.296875 448.757812 \"/>\n",
       "<path style=\"fill:none;stroke-width:1;stroke-linecap:butt;stroke-linejoin:miter;stroke:rgb(26.666667%,26.666667%,26.666667%);stroke-opacity:1;stroke-miterlimit:10;\" d=\"M 169.847656 376.589844 L 20 344.574219 \"/>\n",
       "<path style=\"fill:none;stroke-width:1;stroke-linecap:butt;stroke-linejoin:miter;stroke:rgb(26.666667%,26.666667%,26.666667%);stroke-opacity:1;stroke-miterlimit:10;\" d=\"M 169.847656 376.589844 L 46.714844 497.050781 \"/>\n",
       "<path style=\"fill:none;stroke-width:1;stroke-linecap:butt;stroke-linejoin:miter;stroke:rgb(26.666667%,26.666667%,26.666667%);stroke-opacity:1;stroke-miterlimit:10;\" d=\"M 169.847656 376.589844 L 126.042969 190.558594 \"/>\n",
       "<path style=\"fill:none;stroke-width:1;stroke-linecap:butt;stroke-linejoin:miter;stroke:rgb(26.666667%,26.666667%,26.666667%);stroke-opacity:1;stroke-miterlimit:10;\" d=\"M 318.296875 448.757812 L 452.722656 513.78125 \"/>\n",
       "<path style=\"fill:none;stroke-width:1;stroke-linecap:butt;stroke-linejoin:miter;stroke:rgb(26.666667%,26.666667%,26.666667%);stroke-opacity:1;stroke-miterlimit:10;\" d=\"M 169.847656 376.589844 L 162.839844 559.992188 \"/>\n",
       "<path style=\"fill:none;stroke-width:1;stroke-linecap:butt;stroke-linejoin:miter;stroke:rgb(26.666667%,26.666667%,26.666667%);stroke-opacity:1;stroke-miterlimit:10;\" d=\"M 126.042969 190.558594 L 91.515625 20 \"/>\n",
       "<path style=\"fill:none;stroke-width:1;stroke-linecap:butt;stroke-linejoin:miter;stroke:rgb(26.666667%,26.666667%,26.666667%);stroke-opacity:1;stroke-miterlimit:10;\" d=\"M 169.847656 376.589844 L 274.085938 247.582031 \"/>\n",
       "<path style=\"fill:none;stroke-width:1;stroke-linecap:butt;stroke-linejoin:miter;stroke:rgb(26.666667%,26.666667%,26.666667%);stroke-opacity:1;stroke-miterlimit:10;\" d=\"M 452.722656 513.78125 L 580 580 \"/>\n",
       "<path style=\"fill-rule:nonzero;fill:rgb(100%,0%,0%);fill-opacity:1;stroke-width:1;stroke-linecap:butt;stroke-linejoin:miter;stroke:rgb(0%,0%,0%);stroke-opacity:1;stroke-miterlimit:10;\" d=\"M 179.847656 376.589844 C 179.847656 382.113281 175.367188 386.589844 169.847656 386.589844 C 164.324219 386.589844 159.847656 382.113281 159.847656 376.589844 C 159.847656 371.070312 164.324219 366.589844 169.847656 366.589844 C 175.367188 366.589844 179.847656 371.070312 179.847656 376.589844 \"/>\n",
       "<path style=\"fill-rule:nonzero;fill:rgb(100%,0%,0%);fill-opacity:1;stroke-width:1;stroke-linecap:butt;stroke-linejoin:miter;stroke:rgb(0%,0%,0%);stroke-opacity:1;stroke-miterlimit:10;\" d=\"M 328.296875 448.757812 C 328.296875 454.277344 323.820312 458.757812 318.296875 458.757812 C 312.773438 458.757812 308.296875 454.277344 308.296875 448.757812 C 308.296875 443.234375 312.773438 438.757812 318.296875 438.757812 C 323.820312 438.757812 328.296875 443.234375 328.296875 448.757812 \"/>\n",
       "<path style=\"fill-rule:nonzero;fill:rgb(100%,0%,0%);fill-opacity:1;stroke-width:1;stroke-linecap:butt;stroke-linejoin:miter;stroke:rgb(0%,0%,0%);stroke-opacity:1;stroke-miterlimit:10;\" d=\"M 30 344.574219 C 30 350.097656 25.523438 354.574219 20 354.574219 C 14.476562 354.574219 10 350.097656 10 344.574219 C 10 339.050781 14.476562 334.574219 20 334.574219 C 25.523438 334.574219 30 339.050781 30 344.574219 \"/>\n",
       "<path style=\"fill-rule:nonzero;fill:rgb(100%,0%,0%);fill-opacity:1;stroke-width:1;stroke-linecap:butt;stroke-linejoin:miter;stroke:rgb(0%,0%,0%);stroke-opacity:1;stroke-miterlimit:10;\" d=\"M 56.714844 497.050781 C 56.714844 502.574219 52.238281 507.050781 46.714844 507.050781 C 41.191406 507.050781 36.714844 502.574219 36.714844 497.050781 C 36.714844 491.527344 41.191406 487.050781 46.714844 487.050781 C 52.238281 487.050781 56.714844 491.527344 56.714844 497.050781 \"/>\n",
       "<path style=\"fill-rule:nonzero;fill:rgb(100%,0%,0%);fill-opacity:1;stroke-width:1;stroke-linecap:butt;stroke-linejoin:miter;stroke:rgb(0%,0%,0%);stroke-opacity:1;stroke-miterlimit:10;\" d=\"M 136.042969 190.558594 C 136.042969 196.082031 131.566406 200.558594 126.042969 200.558594 C 120.519531 200.558594 116.042969 196.082031 116.042969 190.558594 C 116.042969 185.035156 120.519531 180.558594 126.042969 180.558594 C 131.566406 180.558594 136.042969 185.035156 136.042969 190.558594 \"/>\n",
       "<path style=\"fill-rule:nonzero;fill:rgb(100%,0%,0%);fill-opacity:1;stroke-width:1;stroke-linecap:butt;stroke-linejoin:miter;stroke:rgb(0%,0%,0%);stroke-opacity:1;stroke-miterlimit:10;\" d=\"M 462.722656 513.78125 C 462.722656 519.304688 458.246094 523.78125 452.722656 523.78125 C 447.199219 523.78125 442.722656 519.304688 442.722656 513.78125 C 442.722656 508.257812 447.199219 503.78125 452.722656 503.78125 C 458.246094 503.78125 462.722656 508.257812 462.722656 513.78125 \"/>\n",
       "<path style=\"fill-rule:nonzero;fill:rgb(100%,0%,0%);fill-opacity:1;stroke-width:1;stroke-linecap:butt;stroke-linejoin:miter;stroke:rgb(0%,0%,0%);stroke-opacity:1;stroke-miterlimit:10;\" d=\"M 172.839844 559.992188 C 172.839844 565.515625 168.363281 569.992188 162.839844 569.992188 C 157.320312 569.992188 152.839844 565.515625 152.839844 559.992188 C 152.839844 554.46875 157.320312 549.992188 162.839844 549.992188 C 168.363281 549.992188 172.839844 554.46875 172.839844 559.992188 \"/>\n",
       "<path style=\"fill-rule:nonzero;fill:rgb(100%,0%,0%);fill-opacity:1;stroke-width:1;stroke-linecap:butt;stroke-linejoin:miter;stroke:rgb(0%,0%,0%);stroke-opacity:1;stroke-miterlimit:10;\" d=\"M 101.515625 20 C 101.515625 25.523438 97.035156 30 91.515625 30 C 85.992188 30 81.515625 25.523438 81.515625 20 C 81.515625 14.476562 85.992188 10 91.515625 10 C 97.035156 10 101.515625 14.476562 101.515625 20 \"/>\n",
       "<path style=\"fill-rule:nonzero;fill:rgb(100%,0%,0%);fill-opacity:1;stroke-width:1;stroke-linecap:butt;stroke-linejoin:miter;stroke:rgb(0%,0%,0%);stroke-opacity:1;stroke-miterlimit:10;\" d=\"M 284.085938 247.582031 C 284.085938 253.105469 279.609375 257.582031 274.085938 257.582031 C 268.5625 257.582031 264.085938 253.105469 264.085938 247.582031 C 264.085938 242.058594 268.5625 237.582031 274.085938 237.582031 C 279.609375 237.582031 284.085938 242.058594 284.085938 247.582031 \"/>\n",
       "<path style=\"fill-rule:nonzero;fill:rgb(100%,0%,0%);fill-opacity:1;stroke-width:1;stroke-linecap:butt;stroke-linejoin:miter;stroke:rgb(0%,0%,0%);stroke-opacity:1;stroke-miterlimit:10;\" d=\"M 590 580 C 590 585.523438 585.523438 590 580 590 C 574.476562 590 570 585.523438 570 580 C 570 574.476562 574.476562 570 580 570 C 585.523438 570 590 574.476562 590 580 \"/>\n",
       "</g>\n",
       "</svg>\n"
      ],
      "text/plain": [
       "<igraph.drawing.Plot at 0x7f736776e390>"
      ]
     },
     "execution_count": 9,
     "metadata": {},
     "output_type": "execute_result"
    }
   ],
   "source": [
    "igraph.drawing.plot(g)"
   ]
  },
  {
   "cell_type": "code",
   "execution_count": 61,
   "metadata": {},
   "outputs": [
    {
     "name": "stderr",
     "output_type": "stream",
     "text": [
      "/usr/local/lib/python3.5/dist-packages/ipykernel_launcher.py:1: DeprecationWarning: Graph.get_adjedgelist() is deprecated since igraph 0.6, please use Graph.get_inclist() instead\n",
      "  \"\"\"Entry point for launching an IPython kernel.\n"
     ]
    },
    {
     "data": {
      "text/plain": [
       "[[0, 1, 2, 3, 5, 7], [0, 4], [1], [2], [3, 6], [4, 8], [5], [6], [7], [8]]"
      ]
     },
     "execution_count": 61,
     "metadata": {},
     "output_type": "execute_result"
    }
   ],
   "source": [
    "g.get_adjedgelist()"
   ]
  },
  {
   "cell_type": "code",
   "execution_count": 26,
   "metadata": {},
   "outputs": [
    {
     "data": {
      "text/plain": [
       "[6, 2, 1, 1, 2, 2, 1, 1, 1, 1]"
      ]
     },
     "execution_count": 26,
     "metadata": {},
     "output_type": "execute_result"
    }
   ],
   "source": [
    "g.degree()\n"
   ]
  },
  {
   "cell_type": "code",
   "execution_count": 59,
   "metadata": {},
   "outputs": [],
   "source": [
    "import numpy as np\n",
    "import math\n",
    "def bfs_single_vertex(p_graph, p_vertex):\n",
    "    vs = p_graph.vs()\n",
    "    N = len(vs)\n",
    "    queue = [np.nan] * N\n",
    "    queue[0] = p_vertex\n",
    "    distances = [np.nan] * N\n",
    "    distances[p_vertex] = 0\n",
    "    read_ptr = 0\n",
    "    write_ptr = 1\n",
    "    while read_ptr < write_ptr:\n",
    "        cur_vertex_num = queue[read_ptr]\n",
    "        read_ptr = read_ptr + 1\n",
    "        cur_vertex_dist = distances[cur_vertex_num]\n",
    "        for vn_vertex_num in p_graph.neighbors(cur_vertex_num):\n",
    "            if math.isnan(distances[vn_vertex_num]):\n",
    "                distances[vn_vertex_num] = cur_vertex_dist + 1\n",
    "                queue[write_ptr] = vn_vertex_num\n",
    "                write_ptr = write_ptr + 1\n",
    "    return distances\n",
    "\n",
    "    # while write_ptr is gerater than read_ptr:\n",
    "    # obtain the vertex ID of the entry at index \"read_ptr\" in the queue array, as cur_vertex_num\n",
    "    # increment read_ptr\n",
    "    # get the distance to cur_vertex_num, from the \"distances\" array\n",
    "    # get the neighbors of vertex cur_vertex_num in the graph, using the igraph \"neighbors\" func\n",
    "    # for each vertex_neighbor in the array vertex_neighbors\n",
    "    #    if the distances[vertex_neighbor] is nan:\n",
    "    #         (1) set the distance to vertex_neighbor (in \"distances\" vector) to the distance to\n",
    "    #           cur_vertex_num, plus one\n",
    "    #         (2) add neighbor to the queue\n",
    "    #         put vertex_neighbor at position write_ptr in the queue array\n",
    "    #         increment write_ptr\n",
    "    # end-while\n",
    "    # return \"distances\"\n",
    "    "
   ]
  },
  {
   "cell_type": "markdown",
   "metadata": {},
   "source": [
    "Test out your function, starting at vertex 0"
   ]
  },
  {
   "cell_type": "code",
   "execution_count": 60,
   "metadata": {},
   "outputs": [
    {
     "data": {
      "text/plain": [
       "[0, 1, 1, 1, 1, 2, 1, 2, 1, 3]"
      ]
     },
     "execution_count": 60,
     "metadata": {},
     "output_type": "execute_result"
    }
   ],
   "source": [
    "bfs_single_vertex(g, 0)"
   ]
  },
  {
   "cell_type": "code",
   "execution_count": 63,
   "metadata": {},
   "outputs": [
    {
     "data": {
      "text/plain": [
       "[0, 1, 1, 1, 1, 2, 1, 2, 1, 3]"
      ]
     },
     "execution_count": 63,
     "metadata": {},
     "output_type": "execute_result"
    }
   ],
   "source": [
    "[len(x) - 1 for x in g.get_shortest_paths(v=0)]"
   ]
  }
 ],
 "metadata": {
  "kernelspec": {
   "display_name": "Python 3",
   "language": "python",
   "name": "python3"
  },
  "language_info": {
   "codemirror_mode": {
    "name": "ipython",
    "version": 3
   },
   "file_extension": ".py",
   "mimetype": "text/x-python",
   "name": "python",
   "nbconvert_exporter": "python",
   "pygments_lexer": "ipython3",
   "version": "3.5.2"
  }
 },
 "nbformat": 4,
 "nbformat_minor": 2
}
