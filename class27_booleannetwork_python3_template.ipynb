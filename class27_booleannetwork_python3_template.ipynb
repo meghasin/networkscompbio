{
 "cells": [
  {
   "cell_type": "markdown",
   "metadata": {},
   "source": [
    "# Class 27 - Boolean Networks\n"
   ]
  },
  {
   "cell_type": "code",
   "execution_count": 2,
   "metadata": {
    "collapsed": true
   },
   "outputs": [],
   "source": [
    "import numpy\n",
    "\n",
    "nodes = ['Cell Size', \n",
    "         'Cln3', \n",
    "         'MBF', \n",
    "         'Clb5,6', \n",
    "         'Mcm1/SFF', \n",
    "         'Swi5', \n",
    "         'Sic1', \n",
    "         'Clb1,2', \n",
    "         'Cdc20&Cdc14', \n",
    "         'Cdh1', \n",
    "         'Cln1,2', \n",
    "         'SBF']\n",
    "\n",
    "N = len(nodes)\n",
    "\n",
    "# define the transition matrix \n",
    "a = numpy.zeros([N, N])\n",
    "a[0,1] = 1\n",
    "a[1,1] = -1\n",
    "a[1,2] = 1\n",
    "a[1,11] = 1\n",
    "a[2,3] = 1\n",
    "a[3,4] = 1\n",
    "a[3,6] = -1\n",
    "a[3,7] = 1\n",
    "a[3,9] = -1\n",
    "a[4,4] = -1\n",
    "a[4,5] = 1\n",
    "a[4,7] = 1\n",
    "a[4,8] = 1\n",
    "a[5,5] = -1\n",
    "a[5,6] = 1\n",
    "a[6,3] = -1\n",
    "a[6,7] = -1\n",
    "a[7,2] = -1\n",
    "a[7,4] = 1\n",
    "a[7,5] = -1\n",
    "a[7,6] = -1\n",
    "a[7,8] = 1\n",
    "a[7,9] = -1\n",
    "a[7,11] = -1\n",
    "a[8,3] = -1\n",
    "a[8,5] = 1\n",
    "a[8,6] = 1\n",
    "a[8,7] = -1\n",
    "a[8,8] = -1\n",
    "a[8,9] = 1\n",
    "a[9,7] = -1\n",
    "a[10,6] = -1\n",
    "a[10,9] = -1\n",
    "a[10,10] = -1\n",
    "a[11,10] = 1\n",
    "a = numpy.matrix(a)\n",
    "\n",
    "# define the matrix of states for the fixed points\n",
    "num_fp = 7\n",
    "fixed_points = numpy.zeros([num_fp, N])\n",
    "fixed_points[0, 6] = 1\n",
    "fixed_points[0, 9] = 1\n",
    "fixed_points[1, 10] = 1\n",
    "fixed_points[1, 11] = 1\n",
    "fixed_points[2, 2] = 1\n",
    "fixed_points[2, 6] = 1\n",
    "fixed_points[2, 9] = 1\n",
    "fixed_points[3, 6] = 1\n",
    "fixed_points[4, 2] = 1\n",
    "fixed_points[4, 6] = 1\n",
    "fixed_points[6, 9] = 1\n",
    "fixed_points = numpy.matrix(fixed_points)\n",
    "\n",
    "basin_counts = numpy.zeros(num_fp)"
   ]
  },
  {
   "cell_type": "markdown",
   "metadata": {},
   "source": [
    "Define a function `hamming.dist` that gives the hamming distance between two states of the Boolean network (as numpy arrays of ones and zeroes)"
   ]
  },
  {
   "cell_type": "code",
   "execution_count": 3,
   "metadata": {
    "collapsed": true
   },
   "outputs": [],
   "source": [
    "def hamming_dist(x1, x2):\n",
    "    return np.sum(np.abs(x1-x2))"
   ]
  },
  {
   "cell_type": "markdown",
   "metadata": {},
   "source": [
    "Define a function `evolve` that takes the network from one Boolean vector state to another Boolean vector state"
   ]
  },
  {
   "cell_type": "code",
   "execution_count": 4,
   "metadata": {
    "collapsed": true
   },
   "outputs": [],
   "source": [
    "def evolve(state):\n",
    "    result = numpy.array(a.transpose().dot(state))\n",
    "    result = numpy.reshape(result, N)\n",
    "    result[result > 0] = 1\n",
    "    result[result == 0] = state[result == 0]\n",
    "    result[result < 0] = 0\n",
    "    return result"
   ]
  },
  {
   "cell_type": "markdown",
   "metadata": {},
   "source": [
    "Write a function that runs 10,000 simulations of the network. In each simulation, the procedure is:\n",
    "- create a random binary vector of length 12, and call that vector `state` (make sure the zeroth element is set to zero)\n",
    "- iteratively call \"evolve\", passing the `state` to evolve and then updating `state` with the return value from `evolve`\n",
    "- check if `state` changes in the last call to `evolve`; if it does not, then you have reached a fixed point; stop iterating\n",
    "- compare the state to the rows of `fixed_points`; for the unique row `i` for which you find a match, increment the element in position `i` of `basin_counts`\n",
    "- print out `basin_counts`"
   ]
  },
  {
   "cell_type": "code",
   "execution_count": 5,
   "metadata": {
    "collapsed": false
   },
   "outputs": [
    {
     "data": {
      "text/plain": [
       "array([8558,  748,  580,   35,   41,   33,    5])"
      ]
     },
     "execution_count": 5,
     "metadata": {},
     "output_type": "execute_result"
    }
   ],
   "source": [
    "import itertools\n",
    "import random\n",
    "\n"
   ]
  }
 ],
 "metadata": {
  "kernelspec": {
   "display_name": "Python 3",
   "language": "python",
   "name": "python3"
  },
  "language_info": {
   "codemirror_mode": {
    "name": "ipython",
    "version": 3
   },
   "file_extension": ".py",
   "mimetype": "text/x-python",
   "name": "python",
   "nbconvert_exporter": "python",
   "pygments_lexer": "ipython3",
   "version": "3.4.3"
  }
 },
 "nbformat": 4,
 "nbformat_minor": 1
}
