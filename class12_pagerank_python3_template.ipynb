{
 "cells": [
  {
   "cell_type": "markdown",
   "metadata": {},
   "source": [
    "# CS446/546 - Class Session 12 - Pagerank/Katz/Eigenvector centrality\n",
    "\n",
    "In this class session we are going to compute the outgoing-edge PageRank centrality of each gene (vertex) in a human gene regulatory network (a directed graph) from a landmark paper on human gene regulation (Neph et al., Cell, volume 150, pages 1274-1286, 2012; see PDF on Canvas)"
   ]
  },
  {
   "cell_type": "markdown",
   "metadata": {},
   "source": [
    "Using Pandas `read_csv`, read in the ifle `shared/neph_gene_network.txt`, which has two columns of text (first column is the regulator gene, second column is the target gene), into a data frame. The file has no header and is tab-delimited.  Assign the column names of the dataframe to be `regulator` and `target`, respectively."
   ]
  },
  {
   "cell_type": "markdown",
   "metadata": {},
   "source": [
    "Let's load the Python packages that we will need for this exercise"
   ]
  },
  {
   "cell_type": "code",
   "execution_count": 3,
   "metadata": {},
   "outputs": [],
   "source": [
    "import pandas\n",
    "import igraph\n",
    "import numpy\n",
    "import matplotlib.pyplot\n",
    "import random"
   ]
  },
  {
   "cell_type": "markdown",
   "metadata": {},
   "source": [
    "Using `pandas.read_csv`, read the file `shared/neph_gene_network.txt`; name the two columns of the resulting data frame, `regulator` and `target`."
   ]
  },
  {
   "cell_type": "code",
   "execution_count": 2,
   "metadata": {},
   "outputs": [],
   "source": [
    "edge_list_neph = pandas.read_csv(\"shared/neph_gene_network.txt\",\n",
    "                                 sep=\"\\t\", \n",
    "                                 names=[\"regulator\",\"target\"])"
   ]
  },
  {
   "cell_type": "markdown",
   "metadata": {},
   "source": [
    "Load the edge-list data into a directed `igraph.Graph` object `neph_graph`, using `igraph.Graph.TupleList`. *Make sure to reverse the columns of the data frame when you input the data frame into `Graph.TupleList` since we want the outgoing pagerank centrality not incoming pagerank centrality.* Print out a summary of the graph, using the `igraph.Graph.summary` method:"
   ]
  },
  {
   "cell_type": "code",
   "execution_count": 3,
   "metadata": {},
   "outputs": [
    {
     "data": {
      "text/plain": [
       "'IGRAPH DN-- 538 47945 -- \\n+ attr: name (v)'"
      ]
     },
     "execution_count": 3,
     "metadata": {},
     "output_type": "execute_result"
    }
   ],
   "source": [
    "neph_graph = igraph.Graph.TupleList(edge_list_neph[[\"target\",\"regulator\"]].values.tolist(), directed=True)\n",
    "neph_graph.summary()"
   ]
  },
  {
   "cell_type": "markdown",
   "metadata": {},
   "source": [
    "Compute the pagerank centrality measures of all vertices, using `igraph.Graph.pagerank`.  Use the resulting object to initialize a `numpy.array`, `pageranks`."
   ]
  },
  {
   "cell_type": "code",
   "execution_count": 36,
   "metadata": {},
   "outputs": [],
   "source": []
  },
  {
   "cell_type": "markdown",
   "metadata": {},
   "source": [
    "Which vertex has highest pagerank centrality in the gene regulatory network, and what is its pagerank centrality value? (think `numpy.max` and `numpy.argmax`). Get a `VertexSet` sequence using the `igraph.Graph.vs` property, and then index into that sequence using Python indexing:"
   ]
  },
  {
   "cell_type": "code",
   "execution_count": 37,
   "metadata": {},
   "outputs": [
    {
     "name": "stdout",
     "output_type": "stream",
     "text": [
      "0.00749112688039\n"
     ]
    },
    {
     "data": {
      "text/plain": [
       "igraph.Vertex(<igraph.Graph object at 0x7f6dbbb9be58>, 122, {'name': 'FOS'})"
      ]
     },
     "execution_count": 37,
     "metadata": {},
     "output_type": "execute_result"
    }
   ],
   "source": []
  },
  {
   "cell_type": "markdown",
   "metadata": {},
   "source": [
    "Calculate the in-degree of all vertices in the graph, and scatter plot `log(degree)` vs. `log(pagerank)`.  (Do you see why we used `in` here?  Note the column swapping we did earlier). Note-- you will have to eliminate one vertex that has zero in-degree."
   ]
  },
  {
   "cell_type": "code",
   "execution_count": 35,
   "metadata": {},
   "outputs": [
    {
     "data": {
      "image/png": "[encoded data removed]",
      "text/plain": [
       "<matplotlib.figure.Figure at 0x7f6dbb4921d0>"
      ]
     },
     "metadata": {},
     "output_type": "display_data"
    }
   ],
   "source": [
    "import matplotlib.pyplot\n",
    "ax = matplotlib.pyplot.gca()\n",
    "ax.set_xscale(\"log\")\n",
    "ax.set_yscale(\"log\")\n",
    "degrees = numpy.array(neph_graph.indegree())\n",
    "inds_keep = numpy.where(degrees > 0)\n",
    "ax.scatter(degrees[inds_keep], \n",
    "           pageranks[inds_keep])\n",
    "#ax.scatter(neph_graph.indegree(), pageranks)\n",
    "matplotlib.pyplot.xlabel(\"degree\")\n",
    "matplotlib.pyplot.ylabel(\"pagerank\")\n",
    "matplotlib.pyplot.show()"
   ]
  },
  {
   "cell_type": "markdown",
   "metadata": {},
   "source": [
    "See if you can calculate the pagerank centrality yourself, using the matrix inversion (Eq. 7.19 from Newman). Test your function on a small directed graph."
   ]
  },
  {
   "cell_type": "code",
   "execution_count": 5,
   "metadata": {},
   "outputs": [],
   "source": [
    "def pagerank(g):\n",
    "    # N is the number of vertices\n",
    "    N = len(g.vs)\n",
    "    \n",
    "    # alpha is the damping parameter\n",
    "    alpha = 0.85\n",
    "    \n",
    "    # beta = (1-alpha)/N\n",
    "    beta = (1-alpha)/N\n",
    "    \n",
    "    # compute the out-degree of each vertex\n",
    "    degree_values = g.degree(mode=\"out\")\n",
    "    \n",
    "    # get a floating-point adjacency matrix M in the Newman format (take transpose from igraph format)\n",
    "    M = numpy.matrix(g.get_adjacency().data).transpose().astype(float)\n",
    "    \n",
    "    # or each column in 0,N-1:\n",
    "    for j in range(0,N):\n",
    "        \n",
    "        # get the out degree of the vertex as a float\n",
    "        degree_value = float(degree_values[j])\n",
    "        \n",
    "        # if degree is nonzero, normalize the column of M\n",
    "        if degree_value > 0:\n",
    "            M[:,j] /= degree_value\n",
    "        else:\n",
    "            # set the column to zero\n",
    "            M[:,j] = 0\n",
    "            \n",
    "    # use Equation on the board to compute the pagerank vector \"pr\"\n",
    "    \n",
    "    \n",
    "    # normalize the \"pr\" vector to one\n",
    "    pr = pr/sum(pr)\n",
    "    \n",
    "    return(pr.transpose())"
   ]
  },
  {
   "cell_type": "markdown",
   "metadata": {},
   "source": [
    "Test out your function on a small 5-vertex graph:"
   ]
  },
  {
   "cell_type": "code",
   "execution_count": 7,
   "metadata": {},
   "outputs": [
    {
     "name": "stdout",
     "output_type": "stream",
     "text": [
      "[[ 0.37163798  0.25279461  0.14960966  0.1327793   0.09317846]]\n",
      "[0.3716379775295785, 0.2527946075297947, 0.149609658704058, 0.1327793000565404, 0.09317845618002835]\n"
     ]
    }
   ],
   "source": [
    "g = igraph.Graph.Barabasi(n=5, m=2, directed=True) \n",
    "print(pagerank(g))\n",
    "print(g.pagerank())"
   ]
  },
  {
   "cell_type": "code",
   "execution_count": null,
   "metadata": {},
   "outputs": [],
   "source": []
  }
 ],
 "metadata": {
  "kernelspec": {
   "display_name": "Python 3",
   "language": "python",
   "name": "python3"
  },
  "language_info": {
   "codemirror_mode": {
    "name": "ipython",
    "version": 3
   },
   "file_extension": ".py",
   "mimetype": "text/x-python",
   "name": "python",
   "nbconvert_exporter": "python",
   "pygments_lexer": "ipython3",
   "version": "3.5.2"
  }
 },
 "nbformat": 4,
 "nbformat_minor": 1
}
