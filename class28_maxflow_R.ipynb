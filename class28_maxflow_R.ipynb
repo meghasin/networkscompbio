{
 "cells": [
  {
   "cell_type": "markdown",
   "metadata": {},
   "source": [
    "# Class 28 - Maximum Flow"
   ]
  },
  {
   "cell_type": "markdown",
   "metadata": {},
   "source": [
    "Define an adjacency matrix for a simple directed graph with six vertices, as shown here:"
   ]
  },
  {
   "cell_type": "code",
   "execution_count": 1,
   "metadata": {},
   "outputs": [],
   "source": [
    "vertex_names <- c(\"A\",\"B\",\"C\",\"D\",\"E\",\"X\")\n",
    "N <- length(vertex_names)\n",
    "network <- matrix(rep(0, N^2), ncol=N, dimnames=list(vertex_names, vertex_names))\n",
    "network[\"A\",\"X\"] <- 1\n",
    "network[\"A\",\"E\"] <- 1\n",
    "network[\"D\",\"E\"] <- 1\n",
    "network[\"A\",\"B\"] <- 1\n",
    "network[\"A\",\"C\"] <- 1\n",
    "network[\"C\",\"X\"] <- 1\n",
    "network[\"E\",\"X\"] <- 1"
   ]
  },
  {
   "cell_type": "markdown",
   "metadata": {},
   "source": [
    "Make an igraph graph out of this adjacency matrix, and print the graph and its summary:"
   ]
  },
  {
   "cell_type": "code",
   "execution_count": 2,
   "metadata": {},
   "outputs": [
    {
     "name": "stderr",
     "output_type": "stream",
     "text": [
      "\n",
      "Attaching package: 'igraph'\n",
      "\n",
      "The following objects are masked from 'package:stats':\n",
      "\n",
      "    decompose, spectrum\n",
      "\n",
      "The following object is masked from 'package:base':\n",
      "\n",
      "    union\n",
      "\n"
     ]
    },
    {
     "name": "stdout",
     "output_type": "stream",
     "text": [
      "IGRAPH 614158a DN-- 6 7 -- \n",
      "+ attr: name (v/c)\n",
      "IGRAPH 614158a DN-- 6 7 -- \n",
      "+ attr: name (v/c)\n",
      "+ edges from 614158a (vertex names):\n",
      "[1] A->B A->C A->E A->X C->X D->E E->X\n"
     ]
    },
    {
     "data": {
      "image/png": "[encoded data removed]",
      "text/plain": [
       "Plot with title \"\""
      ]
     },
     "metadata": {},
     "output_type": "display_data"
    }
   ],
   "source": [
    "library(igraph)\n",
    "network_igraph <- graph_from_adjacency_matrix(network)\n",
    "print(summary(network_igraph))\n",
    "plot(network_igraph)"
   ]
  },
  {
   "cell_type": "markdown",
   "metadata": {},
   "source": [
    "Using the `graph.maxflow` function, compute the max-flow between all possible pairs of distinct vertices. Which pair of vertices have the maximum flow between them?  R users, try to do this without a loop (hint, use `expand.grid`, `apply`, and `unlist`)."
   ]
  },
  {
   "cell_type": "code",
   "execution_count": 5,
   "metadata": {},
   "outputs": [
    {
     "name": "stdout",
     "output_type": "stream",
     "text": [
      "[1] \"The pair of vertices with the maximum flow between them is: \"\n",
      "A_to_X \n",
      "     3 \n"
     ]
    }
   ],
   "source": [
    "max_flow_data <- unlist(apply(combn(vertex_names, 2), 2, function(vertex_pair) {\n",
    "    if (vertex_pair[1] == vertex_pair[2]) {\n",
    "        return(NULL)\n",
    "    }\n",
    "    val1 <- graph.maxflow(network_igraph, source=vertex_pair[1], target=vertex_pair[2])$value\n",
    "    val2 <- graph.maxflow(network_igraph, source=vertex_pair[2], target=vertex_pair[1])$value\n",
    "    retlist <- list(val1, val2)\n",
    "    names(retlist) <- c(paste(vertex_pair[1], vertex_pair[2], sep=\"_to_\"),\n",
    "                        paste(vertex_pair[2], vertex_pair[1], sep=\"_to_\"))\n",
    "    retlist\n",
    "}))\n",
    "\n",
    "print(\"The pair of vertices with the maximum flow between them is: \")\n",
    "print(max_flow_data[which.max(max_flow_data)])"
   ]
  },
  {
   "cell_type": "code",
   "execution_count": null,
   "metadata": {},
   "outputs": [],
   "source": []
  }
 ],
 "metadata": {
  "kernelspec": {
   "display_name": "R",
   "language": "R",
   "name": "ir"
  },
  "language_info": {
   "codemirror_mode": "r",
   "file_extension": ".r",
   "mimetype": "text/x-r-source",
   "name": "R",
   "pygments_lexer": "r",
   "version": "3.4.1"
  }
 },
 "nbformat": 4,
 "nbformat_minor": 1
}
