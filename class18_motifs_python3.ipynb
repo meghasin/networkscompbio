{
 "cells": [
  {
   "cell_type": "markdown",
   "metadata": {},
   "source": [
    "# Example implementation of the ESU subgraph enumeration algorithm in python"
   ]
  },
  {
   "cell_type": "markdown",
   "metadata": {},
   "source": [
    "Load the packages that we will need"
   ]
  },
  {
   "cell_type": "code",
   "execution_count": 142,
   "metadata": {},
   "outputs": [],
   "source": [
    "import igraph\n",
    "import random\n",
    "import collections"
   ]
  },
  {
   "cell_type": "markdown",
   "metadata": {},
   "source": [
    "Set the random number seed to ``1337``:"
   ]
  },
  {
   "cell_type": "code",
   "execution_count": 143,
   "metadata": {},
   "outputs": [],
   "source": [
    "random.seed(1337)"
   ]
  },
  {
   "cell_type": "markdown",
   "metadata": {},
   "source": [
    "Define an ``exclusive_neighborhood`` function which takes three arguments:\n",
    "- ``graph`` the whole graph object\n",
    "- ``v`` a single vertex, as an integer\n",
    "- ``Vp`` a ``set`` of vertices\n",
    "\n",
    "returns: a ``set`` of vertex IDs of the set difference ``N(v)-N(Vp)``\n",
    "\n",
    "side effects: none"
   ]
  },
  {
   "cell_type": "code",
   "execution_count": 144,
   "metadata": {},
   "outputs": [],
   "source": [
    "def exclusive_neighborhood(graph, v, Vp):\n",
    "    assert type(graph)==igraph.Graph\n",
    "    assert type(v)==int\n",
    "    assert type(Vp)==set\n",
    "    Nv = set(graph.neighborhood(v))\n",
    "    NVpll = graph.neighborhood(list(Vp))\n",
    "    NVp = set([u for sublist in NVpll for u in sublist])\n",
    "    return Nv - NVp"
   ]
  },
  {
   "cell_type": "markdown",
   "metadata": {},
   "source": [
    "Define the ``extend_subgraph`` function, which takes six arguments:\n",
    "- ``graph`` the whole graph object\n",
    "- ``Vsubgraph`` which is a ``set`` of vertices (cardinality 1--k)\n",
    "- ``Vextension`` which is a ``set`` of vertices (cardinality 0--N)\n",
    "- ``v`` which is the start vertex from which we are to extend\n",
    "- ``k`` the integer number of vertices in the motif (only sane values are 3 or 4)\n",
    "- ``k_subgraphs`` a list of subgraph objects (modified)\n",
    "\n",
    "Returns: nothing (but see ``k_subgraphs`` which is really the return data)\n",
    "\n",
    "side effects:  ``Vextension`` and ``k_subgraphs`` are modified"
   ]
  },
  {
   "cell_type": "code",
   "execution_count": 145,
   "metadata": {},
   "outputs": [],
   "source": [
    "def extend_subgraph(graph, Vsubgraph, Vextension, v, k, k_subgraphs):\n",
    "    assert type(graph)==igraph.Graph\n",
    "    assert type(Vsubgraph)==set\n",
    "    assert type(Vextension)==set\n",
    "    assert type(v)==int\n",
    "    assert type(k)==int\n",
    "    assert type(k_subgraphs)==list\n",
    "    if len(Vsubgraph) == k:\n",
    "        k_subgraphs.append(Vsubgraph)\n",
    "        assert 1==len(set(graph.subgraph(Vsubgraph).clusters(mode=igraph.WEAK).membership))\n",
    "        return\n",
    "    while len(Vextension) > 0:\n",
    "        w = random.choice(tuple(Vextension))\n",
    "        Vextension.remove(w)\n",
    "        ## obtain the \"exclusive neighborhood\" Nexcl(w, vsubgraph)\n",
    "        NexclwVsubgraph = exclusive_neighborhood(graph, w, Vsubgraph)\n",
    "        VpExtension = Vextension | set([u for u in NexclwVsubgraph if u > v])\n",
    "        extend_subgraph(graph, Vsubgraph | set([w]), VpExtension, v, k, k_subgraphs)\n",
    "    return"
   ]
  },
  {
   "cell_type": "markdown",
   "metadata": {},
   "source": [
    "Define the ``enumerate_subgraphs`` function, which takes two arguments:\n",
    "- ``graph``, the whole graph object\n",
    "- ``k``, the integer number of vertices in the motif (only sane values are 3 or 4)\n",
    "\n",
    "returns: a list of ``set`` objects containing the vertices of each of the size ``k`` subgraphs\n",
    "\n",
    "side effects: none"
   ]
  },
  {
   "cell_type": "code",
   "execution_count": 146,
   "metadata": {},
   "outputs": [],
   "source": [
    "def enumerate_subgraphs(graph, k):\n",
    "    assert type(graph)==igraph.Graph\n",
    "    assert type(k)==int\n",
    "    k_subgraphs = []\n",
    "    for vertex_obj in graph.vs:\n",
    "        v = vertex_obj.index\n",
    "        Vextension = set([u for u in G.neighbors(v) if u > v])\n",
    "        extend_subgraph(graph, set([v]), Vextension, v, k, k_subgraphs)\n",
    "    return k_subgraphs"
   ]
  },
  {
   "cell_type": "markdown",
   "metadata": {},
   "source": [
    "Make an undirected Barabasi-Albert graph G with 20 vertices and 3 edges per step (using ``igraph.Graph.Barabasi``); as usual, print the graph summary"
   ]
  },
  {
   "cell_type": "code",
   "execution_count": 147,
   "metadata": {},
   "outputs": [
    {
     "data": {
      "text/plain": [
       "'IGRAPH U--- 6 9 -- '"
      ]
     },
     "execution_count": 147,
     "metadata": {},
     "output_type": "execute_result"
    }
   ],
   "source": [
    "N = 6\n",
    "K = 2\n",
    "G = igraph.Graph.Barabasi(N, K)\n",
    "G.summary()"
   ]
  },
  {
   "cell_type": "markdown",
   "metadata": {},
   "source": [
    "Let's take a look at the structure of this graph that we made, using ``igraph.drawing.plot``:"
   ]
  },
  {
   "cell_type": "code",
   "execution_count": 148,
   "metadata": {},
   "outputs": [
    {
     "data": {
      "image/svg+xml": [
       "<?xml version=\"1.0\" encoding=\"UTF-8\"?>\n",
       "<svg xmlns=\"http://www.w3.org/2000/svg\" xmlns:xlink=\"http://www.w3.org/1999/xlink\" width=\"600pt\" height=\"600pt\" viewBox=\"0 0 600 600\" version=\"1.1\">\n",
       "<g id=\"surface20\">\n",
       "<rect x=\"0\" y=\"0\" width=\"600\" height=\"600\" style=\"fill:rgb(100%,100%,100%);fill-opacity:1;stroke:none;\"/>\n",
       "<path style=\"fill:none;stroke-width:1;stroke-linecap:butt;stroke-linejoin:miter;stroke:rgb(26.666667%,26.666667%,26.666667%);stroke-opacity:1;stroke-miterlimit:10;\" d=\"M 302.378906 319.652344 L 515.398438 323.46875 \"/>\n",
       "<path style=\"fill:none;stroke-width:1;stroke-linecap:butt;stroke-linejoin:miter;stroke:rgb(26.666667%,26.666667%,26.666667%);stroke-opacity:1;stroke-miterlimit:10;\" d=\"M 302.378906 319.652344 L 580 573.347656 \"/>\n",
       "<path style=\"fill:none;stroke-width:1;stroke-linecap:butt;stroke-linejoin:miter;stroke:rgb(26.666667%,26.666667%,26.666667%);stroke-opacity:1;stroke-miterlimit:10;\" d=\"M 515.398438 323.46875 L 580 573.347656 \"/>\n",
       "<path style=\"fill:none;stroke-width:1;stroke-linecap:butt;stroke-linejoin:miter;stroke:rgb(26.666667%,26.666667%,26.666667%);stroke-opacity:1;stroke-miterlimit:10;\" d=\"M 515.398438 323.46875 L 246.226562 580 \"/>\n",
       "<path style=\"fill:none;stroke-width:1;stroke-linecap:butt;stroke-linejoin:miter;stroke:rgb(26.666667%,26.666667%,26.666667%);stroke-opacity:1;stroke-miterlimit:10;\" d=\"M 302.378906 319.652344 L 246.226562 580 \"/>\n",
       "<path style=\"fill:none;stroke-width:1;stroke-linecap:butt;stroke-linejoin:miter;stroke:rgb(26.666667%,26.666667%,26.666667%);stroke-opacity:1;stroke-miterlimit:10;\" d=\"M 302.378906 319.652344 L 422.46875 20 \"/>\n",
       "<path style=\"fill:none;stroke-width:1;stroke-linecap:butt;stroke-linejoin:miter;stroke:rgb(26.666667%,26.666667%,26.666667%);stroke-opacity:1;stroke-miterlimit:10;\" d=\"M 515.398438 323.46875 L 422.46875 20 \"/>\n",
       "<path style=\"fill:none;stroke-width:1;stroke-linecap:butt;stroke-linejoin:miter;stroke:rgb(26.666667%,26.666667%,26.666667%);stroke-opacity:1;stroke-miterlimit:10;\" d=\"M 302.378906 319.652344 L 20 413.921875 \"/>\n",
       "<path style=\"fill:none;stroke-width:1;stroke-linecap:butt;stroke-linejoin:miter;stroke:rgb(26.666667%,26.666667%,26.666667%);stroke-opacity:1;stroke-miterlimit:10;\" d=\"M 246.226562 580 L 20 413.921875 \"/>\n",
       "<path style=\"fill-rule:nonzero;fill:rgb(100%,0%,0%);fill-opacity:1;stroke-width:1;stroke-linecap:butt;stroke-linejoin:miter;stroke:rgb(0%,0%,0%);stroke-opacity:1;stroke-miterlimit:10;\" d=\"M 312.378906 319.652344 C 312.378906 325.175781 307.902344 329.652344 302.378906 329.652344 C 296.855469 329.652344 292.378906 325.175781 292.378906 319.652344 C 292.378906 314.132812 296.855469 309.652344 302.378906 309.652344 C 307.902344 309.652344 312.378906 314.132812 312.378906 319.652344 \"/>\n",
       "<path style=\"fill-rule:nonzero;fill:rgb(100%,0%,0%);fill-opacity:1;stroke-width:1;stroke-linecap:butt;stroke-linejoin:miter;stroke:rgb(0%,0%,0%);stroke-opacity:1;stroke-miterlimit:10;\" d=\"M 525.398438 323.46875 C 525.398438 328.992188 520.921875 333.46875 515.398438 333.46875 C 509.878906 333.46875 505.398438 328.992188 505.398438 323.46875 C 505.398438 317.945312 509.878906 313.46875 515.398438 313.46875 C 520.921875 313.46875 525.398438 317.945312 525.398438 323.46875 \"/>\n",
       "<path style=\"fill-rule:nonzero;fill:rgb(100%,0%,0%);fill-opacity:1;stroke-width:1;stroke-linecap:butt;stroke-linejoin:miter;stroke:rgb(0%,0%,0%);stroke-opacity:1;stroke-miterlimit:10;\" d=\"M 590 573.347656 C 590 578.867188 585.523438 583.347656 580 583.347656 C 574.476562 583.347656 570 578.867188 570 573.347656 C 570 567.824219 574.476562 563.347656 580 563.347656 C 585.523438 563.347656 590 567.824219 590 573.347656 \"/>\n",
       "<path style=\"fill-rule:nonzero;fill:rgb(100%,0%,0%);fill-opacity:1;stroke-width:1;stroke-linecap:butt;stroke-linejoin:miter;stroke:rgb(0%,0%,0%);stroke-opacity:1;stroke-miterlimit:10;\" d=\"M 256.226562 580 C 256.226562 585.523438 251.75 590 246.226562 590 C 240.703125 590 236.226562 585.523438 236.226562 580 C 236.226562 574.476562 240.703125 570 246.226562 570 C 251.75 570 256.226562 574.476562 256.226562 580 \"/>\n",
       "<path style=\"fill-rule:nonzero;fill:rgb(100%,0%,0%);fill-opacity:1;stroke-width:1;stroke-linecap:butt;stroke-linejoin:miter;stroke:rgb(0%,0%,0%);stroke-opacity:1;stroke-miterlimit:10;\" d=\"M 432.46875 20 C 432.46875 25.523438 427.992188 30 422.46875 30 C 416.945312 30 412.46875 25.523438 412.46875 20 C 412.46875 14.476562 416.945312 10 422.46875 10 C 427.992188 10 432.46875 14.476562 432.46875 20 \"/>\n",
       "<path style=\"fill-rule:nonzero;fill:rgb(100%,0%,0%);fill-opacity:1;stroke-width:1;stroke-linecap:butt;stroke-linejoin:miter;stroke:rgb(0%,0%,0%);stroke-opacity:1;stroke-miterlimit:10;\" d=\"M 30 413.921875 C 30 419.441406 25.523438 423.921875 20 423.921875 C 14.476562 423.921875 10 419.441406 10 413.921875 C 10 408.398438 14.476562 403.921875 20 403.921875 C 25.523438 403.921875 30 408.398438 30 413.921875 \"/>\n",
       "</g>\n",
       "</svg>\n"
      ],
      "text/plain": [
       "<igraph.drawing.Plot at 0x7f10094586a0>"
      ]
     },
     "execution_count": 148,
     "metadata": {},
     "output_type": "execute_result"
    }
   ],
   "source": [
    "igraph.drawing.plot(G)"
   ]
  },
  {
   "cell_type": "markdown",
   "metadata": {},
   "source": [
    "Now let's run our ``ESU`` algorithm code with ``k=4``, and get back the list of subgraphs:"
   ]
  },
  {
   "cell_type": "code",
   "execution_count": 149,
   "metadata": {},
   "outputs": [],
   "source": [
    "sgset = enumerate_subgraphs(G,4)"
   ]
  },
  {
   "cell_type": "markdown",
   "metadata": {},
   "source": [
    "Let's print the list of subgraphs:  (What type is each list element?)"
   ]
  },
  {
   "cell_type": "code",
   "execution_count": 150,
   "metadata": {},
   "outputs": [
    {
     "data": {
      "text/plain": [
       "[{0, 2, 4, 5},\n",
       " {0, 1, 4, 5},\n",
       " {0, 3, 4, 5},\n",
       " {0, 2, 3, 4},\n",
       " {0, 1, 3, 4},\n",
       " {0, 1, 2, 4},\n",
       " {0, 1, 2, 5},\n",
       " {0, 1, 3, 5},\n",
       " {0, 2, 3, 5},\n",
       " {0, 1, 2, 3},\n",
       " {1, 2, 3, 4},\n",
       " {1, 3, 4, 5},\n",
       " {1, 2, 3, 5}]"
      ]
     },
     "execution_count": 150,
     "metadata": {},
     "output_type": "execute_result"
    }
   ],
   "source": [
    "sgset"
   ]
  },
  {
   "cell_type": "markdown",
   "metadata": {},
   "source": [
    "We don't know the isomorphism class of each of these subgraphs.  Let's use ``igraph.Graph.isoclass`` for that:"
   ]
  },
  {
   "cell_type": "code",
   "execution_count": 151,
   "metadata": {},
   "outputs": [
    {
     "data": {
      "text/plain": [
       "[4, 7, 7, 4, 9, 9, 7, 9, 7, 9, 4, 6, 6]"
      ]
     },
     "execution_count": 151,
     "metadata": {},
     "output_type": "execute_result"
    }
   ],
   "source": [
    "subgraph_isoclass_list = [G.subgraph(list(sg)).isoclass() for sg in sgset]\n",
    "subgraph_isoclass_list"
   ]
  },
  {
   "cell_type": "markdown",
   "metadata": {},
   "source": [
    "Now let's count the isomorphism classes that we got, using ``collections.Counter``:"
   ]
  },
  {
   "cell_type": "code",
   "execution_count": 152,
   "metadata": {},
   "outputs": [
    {
     "data": {
      "text/plain": [
       "Counter({4: 3, 6: 2, 7: 4, 9: 4})"
      ]
     },
     "execution_count": 152,
     "metadata": {},
     "output_type": "execute_result"
    }
   ],
   "source": [
    "collections.Counter([G.subgraph(list(sg)).isoclass() for sg in sgset])"
   ]
  },
  {
   "cell_type": "markdown",
   "metadata": {},
   "source": [
    "If our code is correct, it should give the same results as running ``igraph.Graph.motifs_randesu`` with ``k=4``:"
   ]
  },
  {
   "cell_type": "code",
   "execution_count": 153,
   "metadata": {},
   "outputs": [
    {
     "data": {
      "text/plain": [
       "[nan, nan, nan, nan, 3, nan, 2, 4, 0, 4, 0]"
      ]
     },
     "execution_count": 153,
     "metadata": {},
     "output_type": "execute_result"
    }
   ],
   "source": [
    "G.motifs_randesu(4)"
   ]
  },
  {
   "cell_type": "markdown",
   "metadata": {},
   "source": [
    "Take a close look; are they consistent?"
   ]
  },
  {
   "cell_type": "code",
   "execution_count": 154,
   "metadata": {},
   "outputs": [
    {
     "data": {
      "text/plain": [
       "'IGRAPH U--- 6 9 -- '"
      ]
     },
     "execution_count": 154,
     "metadata": {},
     "output_type": "execute_result"
    }
   ],
   "source": [
    "G.summary()"
   ]
  },
  {
   "cell_type": "code",
   "execution_count": 155,
   "metadata": {},
   "outputs": [
    {
     "data": {
      "text/plain": [
       "[nan,\n",
       " nan,\n",
       " nan,\n",
       " 0,\n",
       " nan,\n",
       " nan,\n",
       " nan,\n",
       " 0,\n",
       " 0,\n",
       " nan,\n",
       " nan,\n",
       " nan,\n",
       " 0,\n",
       " 0,\n",
       " 0,\n",
       " nan,\n",
       " 0,\n",
       " 0,\n",
       " 0,\n",
       " 0,\n",
       " 0,\n",
       " 0,\n",
       " nan,\n",
       " nan,\n",
       " 0,\n",
       " 0,\n",
       " 0,\n",
       " nan,\n",
       " nan,\n",
       " 0,\n",
       " 0,\n",
       " 0,\n",
       " 0,\n",
       " nan,\n",
       " nan,\n",
       " 0,\n",
       " 0,\n",
       " 0,\n",
       " 0,\n",
       " nan,\n",
       " 0,\n",
       " 0,\n",
       " 0,\n",
       " 0,\n",
       " 0,\n",
       " 0,\n",
       " 0,\n",
       " 0,\n",
       " 0,\n",
       " 0,\n",
       " 0,\n",
       " 0,\n",
       " 0,\n",
       " 0,\n",
       " 0,\n",
       " 0,\n",
       " 0,\n",
       " 0,\n",
       " 0,\n",
       " 0,\n",
       " 0,\n",
       " 0,\n",
       " nan,\n",
       " 0,\n",
       " 0,\n",
       " 0,\n",
       " 0,\n",
       " 0,\n",
       " 0,\n",
       " 0,\n",
       " 0,\n",
       " 0,\n",
       " 0,\n",
       " 0,\n",
       " 0,\n",
       " 0,\n",
       " 0,\n",
       " 0,\n",
       " 0,\n",
       " 0,\n",
       " 0,\n",
       " 0,\n",
       " 0,\n",
       " 0,\n",
       " 0,\n",
       " 0,\n",
       " 0,\n",
       " 0,\n",
       " 0,\n",
       " 0,\n",
       " 0,\n",
       " 0,\n",
       " 0,\n",
       " 0,\n",
       " 3,\n",
       " 0,\n",
       " 0,\n",
       " 0,\n",
       " 0,\n",
       " 0,\n",
       " 0,\n",
       " 0,\n",
       " 0,\n",
       " 0,\n",
       " 0,\n",
       " 0,\n",
       " 0,\n",
       " 0,\n",
       " 0,\n",
       " 0,\n",
       " 0,\n",
       " 0,\n",
       " 0,\n",
       " 0,\n",
       " 0,\n",
       " 0,\n",
       " 0,\n",
       " 0,\n",
       " 0,\n",
       " 0,\n",
       " nan,\n",
       " 0,\n",
       " 0,\n",
       " 0,\n",
       " 0,\n",
       " 2,\n",
       " 0,\n",
       " 0,\n",
       " 0,\n",
       " 0,\n",
       " 0,\n",
       " 0,\n",
       " 0,\n",
       " 0,\n",
       " 0,\n",
       " 0,\n",
       " 0,\n",
       " 0,\n",
       " 0,\n",
       " 0,\n",
       " 0,\n",
       " 0,\n",
       " 4,\n",
       " 0,\n",
       " 0,\n",
       " 0,\n",
       " 0,\n",
       " 0,\n",
       " 0,\n",
       " 0,\n",
       " 0,\n",
       " 0,\n",
       " 0,\n",
       " 0,\n",
       " 0,\n",
       " 0,\n",
       " 0,\n",
       " 0,\n",
       " 0,\n",
       " 0,\n",
       " 0,\n",
       " 0,\n",
       " 0,\n",
       " 0,\n",
       " 0,\n",
       " 0,\n",
       " 0,\n",
       " 0,\n",
       " 0,\n",
       " 0,\n",
       " 0,\n",
       " 0,\n",
       " 0,\n",
       " 0,\n",
       " 0,\n",
       " 0,\n",
       " 0,\n",
       " 0,\n",
       " 0,\n",
       " 0,\n",
       " 0,\n",
       " 0,\n",
       " 0,\n",
       " 0,\n",
       " 0,\n",
       " 0,\n",
       " 0,\n",
       " 0,\n",
       " 0,\n",
       " 0,\n",
       " 0,\n",
       " 0,\n",
       " 0,\n",
       " 0,\n",
       " 0,\n",
       " 0,\n",
       " 0,\n",
       " 0,\n",
       " 0,\n",
       " 0,\n",
       " 0,\n",
       " 0,\n",
       " 0,\n",
       " 0,\n",
       " 0,\n",
       " 4,\n",
       " 0,\n",
       " 0,\n",
       " 0,\n",
       " 0,\n",
       " 0,\n",
       " 0,\n",
       " 0,\n",
       " 0,\n",
       " 0,\n",
       " 0,\n",
       " 0,\n",
       " 0]"
      ]
     },
     "execution_count": 155,
     "metadata": {},
     "output_type": "execute_result"
    }
   ],
   "source": [
    "G.as_directed().motifs_randesu(4)"
   ]
  },
  {
   "cell_type": "code",
   "execution_count": null,
   "metadata": {},
   "outputs": [],
   "source": []
  }
 ],
 "metadata": {
  "kernelspec": {
   "display_name": "Python 3",
   "language": "python",
   "name": "python3"
  },
  "language_info": {
   "codemirror_mode": {
    "name": "ipython",
    "version": 3
   },
   "file_extension": ".py",
   "mimetype": "text/x-python",
   "name": "python",
   "nbconvert_exporter": "python",
   "pygments_lexer": "ipython3",
   "version": "3.5.2"
  }
 },
 "nbformat": 4,
 "nbformat_minor": 2
}
