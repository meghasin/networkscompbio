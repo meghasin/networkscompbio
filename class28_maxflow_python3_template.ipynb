{
 "cells": [
  {
   "cell_type": "markdown",
   "metadata": {},
   "source": [
    "# Class 28 - Maximum Flow"
   ]
  },
  {
   "cell_type": "markdown",
   "metadata": {},
   "source": [
    "Define an adjacency matrix for a simple directed graph with six vertices, as shown here:"
   ]
  },
  {
   "cell_type": "code",
   "execution_count": 1,
   "metadata": {
    "collapsed": false
   },
   "outputs": [],
   "source": [
    "import numpy\n",
    "vertex_names = [\"A\",\"B\",\"C\",\"D\",\"E\",\"X\"]\n",
    "N = len(vertex_names)\n",
    "network = numpy.zeros([N, N])\n",
    "network[0,5] = 1\n",
    "network[0,4] = 1\n",
    "network[3,4] = 1\n",
    "network[0,1] = 1\n",
    "network[0,2] = 1\n",
    "network[2,5] = 1\n",
    "network[4,5] = 1"
   ]
  },
  {
   "cell_type": "markdown",
   "metadata": {},
   "source": [
    "Make an igraph graph out of this adjacency matrix, and print the graph and its summary:"
   ]
  },
  {
   "cell_type": "code",
   "execution_count": 2,
   "metadata": {
    "collapsed": false
   },
   "outputs": [
    {
     "name": "stdout",
     "output_type": "stream",
     "text": [
      "IGRAPH D--- 6 7 -- \n",
      "+ attr: label (v)\n"
     ]
    },
    {
     "data": {
      "image/svg+xml": [
       "<?xml version=\"1.0\" encoding=\"UTF-8\"?>\n",
       "<svg xmlns=\"http://www.w3.org/2000/svg\" xmlns:xlink=\"http://www.w3.org/1999/xlink\" width=\"600pt\" height=\"600pt\" viewBox=\"0 0 600 600\" version=\"1.1\">\n",
       "<defs>\n",
       "<g>\n",
       "<symbol overflow=\"visible\" id=\"glyph0-0\">\n",
       "<path style=\"stroke:none;\" d=\"M 0.703125 2.46875 L 0.703125 -9.875 L 7.703125 -9.875 L 7.703125 2.46875 Z M 1.484375 1.703125 L 6.921875 1.703125 L 6.921875 -9.078125 L 1.484375 -9.078125 Z \"/>\n",
       "</symbol>\n",
       "<symbol overflow=\"visible\" id=\"glyph0-1\">\n",
       "<path style=\"stroke:none;\" d=\"M 4.78125 -8.84375 L 2.90625 -3.765625 L 6.671875 -3.765625 Z M 4 -10.203125 L 5.578125 -10.203125 L 9.46875 0 L 8.03125 0 L 7.09375 -2.625 L 2.5 -2.625 L 1.5625 0 L 0.109375 0 Z \"/>\n",
       "</symbol>\n",
       "<symbol overflow=\"visible\" id=\"glyph0-2\">\n",
       "<path style=\"stroke:none;\" d=\"M 2.75 -4.875 L 2.75 -1.140625 L 4.96875 -1.140625 C 5.707031 -1.140625 6.253906 -1.289062 6.609375 -1.59375 C 6.972656 -1.90625 7.15625 -2.378906 7.15625 -3.015625 C 7.15625 -3.648438 6.972656 -4.117188 6.609375 -4.421875 C 6.253906 -4.722656 5.707031 -4.875 4.96875 -4.875 Z M 2.75 -9.078125 L 2.75 -6 L 4.796875 -6 C 5.472656 -6 5.972656 -6.125 6.296875 -6.375 C 6.628906 -6.625 6.796875 -7.007812 6.796875 -7.53125 C 6.796875 -8.050781 6.628906 -8.4375 6.296875 -8.6875 C 5.972656 -8.945312 5.472656 -9.078125 4.796875 -9.078125 Z M 1.375 -10.203125 L 4.90625 -10.203125 C 5.957031 -10.203125 6.765625 -9.984375 7.328125 -9.546875 C 7.898438 -9.109375 8.1875 -8.488281 8.1875 -7.6875 C 8.1875 -7.0625 8.039062 -6.5625 7.75 -6.1875 C 7.457031 -5.820312 7.03125 -5.59375 6.46875 -5.5 C 7.144531 -5.351562 7.671875 -5.046875 8.046875 -4.578125 C 8.421875 -4.117188 8.609375 -3.546875 8.609375 -2.859375 C 8.609375 -1.941406 8.296875 -1.234375 7.671875 -0.734375 C 7.054688 -0.242188 6.175781 0 5.03125 0 L 1.375 0 Z \"/>\n",
       "</symbol>\n",
       "<symbol overflow=\"visible\" id=\"glyph0-3\">\n",
       "<path style=\"stroke:none;\" d=\"M 9.015625 -9.421875 L 9.015625 -7.96875 C 8.546875 -8.394531 8.046875 -8.710938 7.515625 -8.921875 C 6.992188 -9.140625 6.441406 -9.25 5.859375 -9.25 C 4.691406 -9.25 3.796875 -8.890625 3.171875 -8.171875 C 2.554688 -7.460938 2.25 -6.4375 2.25 -5.09375 C 2.25 -3.75 2.554688 -2.71875 3.171875 -2 C 3.796875 -1.289062 4.691406 -0.9375 5.859375 -0.9375 C 6.441406 -0.9375 6.992188 -1.039062 7.515625 -1.25 C 8.046875 -1.46875 8.546875 -1.796875 9.015625 -2.234375 L 9.015625 -0.78125 C 8.535156 -0.457031 8.023438 -0.210938 7.484375 -0.046875 C 6.941406 0.117188 6.367188 0.203125 5.765625 0.203125 C 4.222656 0.203125 3.003906 -0.269531 2.109375 -1.21875 C 1.222656 -2.164062 0.78125 -3.457031 0.78125 -5.09375 C 0.78125 -6.726562 1.222656 -8.019531 2.109375 -8.96875 C 3.003906 -9.914062 4.222656 -10.390625 5.765625 -10.390625 C 6.378906 -10.390625 6.957031 -10.304688 7.5 -10.140625 C 8.039062 -9.984375 8.546875 -9.742188 9.015625 -9.421875 Z \"/>\n",
       "</symbol>\n",
       "<symbol overflow=\"visible\" id=\"glyph0-4\">\n",
       "<path style=\"stroke:none;\" d=\"M 2.75 -9.078125 L 2.75 -1.140625 L 4.421875 -1.140625 C 5.828125 -1.140625 6.859375 -1.457031 7.515625 -2.09375 C 8.171875 -2.726562 8.5 -3.734375 8.5 -5.109375 C 8.5 -6.484375 8.171875 -7.488281 7.515625 -8.125 C 6.859375 -8.757812 5.828125 -9.078125 4.421875 -9.078125 Z M 1.375 -10.203125 L 4.21875 -10.203125 C 6.1875 -10.203125 7.632812 -9.789062 8.5625 -8.96875 C 9.488281 -8.144531 9.953125 -6.859375 9.953125 -5.109375 C 9.953125 -3.347656 9.488281 -2.054688 8.5625 -1.234375 C 7.632812 -0.410156 6.1875 0 4.21875 0 L 1.375 0 Z \"/>\n",
       "</symbol>\n",
       "<symbol overflow=\"visible\" id=\"glyph0-5\">\n",
       "<path style=\"stroke:none;\" d=\"M 1.375 -10.203125 L 7.828125 -10.203125 L 7.828125 -9.046875 L 2.75 -9.046875 L 2.75 -6.015625 L 7.609375 -6.015625 L 7.609375 -4.859375 L 2.75 -4.859375 L 2.75 -1.15625 L 7.953125 -1.15625 L 7.953125 0 L 1.375 0 Z \"/>\n",
       "</symbol>\n",
       "<symbol overflow=\"visible\" id=\"glyph0-6\">\n",
       "<path style=\"stroke:none;\" d=\"M 0.875 -10.203125 L 2.359375 -10.203125 L 4.90625 -6.40625 L 7.453125 -10.203125 L 8.9375 -10.203125 L 5.65625 -5.3125 L 9.15625 0 L 7.671875 0 L 4.796875 -4.34375 L 1.90625 0 L 0.421875 0 L 4.0625 -5.453125 Z \"/>\n",
       "</symbol>\n",
       "</g>\n",
       "</defs>\n",
       "<g id=\"surface2\">\n",
       "<rect x=\"0\" y=\"0\" width=\"600\" height=\"600\" style=\"fill:rgb(100%,100%,100%);fill-opacity:1;stroke:none;\"/>\n",
       "<path style=\"fill:none;stroke-width:1;stroke-linecap:butt;stroke-linejoin:miter;stroke:rgb(26.666667%,26.666667%,26.666667%);stroke-opacity:1;stroke-miterlimit:10;\" d=\"M 317.546875 463.289062 L 43.105469 551.28125 \"/>\n",
       "<path style=\" stroke:none;fill-rule:nonzero;fill:rgb(26.666667%,26.666667%,26.666667%);fill-opacity:1;\" d=\"M 29.523438 555.636719 L 41.691406 546.867188 L 44.523438 555.695312 L 29.523438 555.636719 \"/>\n",
       "<path style=\"fill:none;stroke-width:1;stroke-linecap:butt;stroke-linejoin:miter;stroke:rgb(26.666667%,26.666667%,26.666667%);stroke-opacity:1;stroke-miterlimit:10;\" d=\"M 317.546875 463.289062 L 557.828125 570.140625 \"/>\n",
       "<path style=\" stroke:none;fill-rule:nonzero;fill:rgb(26.666667%,26.666667%,26.666667%);fill-opacity:1;\" d=\"M 570.863281 575.9375 L 555.945312 574.375 L 559.710938 565.90625 L 570.863281 575.9375 \"/>\n",
       "<path style=\"fill:none;stroke-width:1;stroke-linecap:butt;stroke-linejoin:miter;stroke:rgb(26.666667%,26.666667%,26.666667%);stroke-opacity:1;stroke-miterlimit:10;\" d=\"M 317.546875 463.289062 L 354.484375 238.066406 \"/>\n",
       "<path style=\" stroke:none;fill-rule:nonzero;fill:rgb(26.666667%,26.666667%,26.666667%);fill-opacity:1;\" d=\"M 356.792969 223.988281 L 359.058594 238.816406 L 349.910156 237.316406 L 356.792969 223.988281 \"/>\n",
       "<path style=\"fill:none;stroke-width:1;stroke-linecap:butt;stroke-linejoin:miter;stroke:rgb(26.666667%,26.666667%,26.666667%);stroke-opacity:1;stroke-miterlimit:10;\" d=\"M 317.546875 463.289062 L 552.957031 374.738281 \"/>\n",
       "<path style=\" stroke:none;fill-rule:nonzero;fill:rgb(26.666667%,26.666667%,26.666667%);fill-opacity:1;\" d=\"M 566.308594 369.714844 L 554.589844 379.078125 L 551.324219 370.398438 L 566.308594 369.714844 \"/>\n",
       "<path style=\"fill:none;stroke-width:1;stroke-linecap:butt;stroke-linejoin:miter;stroke:rgb(26.666667%,26.666667%,26.666667%);stroke-opacity:1;stroke-miterlimit:10;\" d=\"M 580 580 L 576.160156 390.457031 \"/>\n",
       "<path style=\" stroke:none;fill-rule:nonzero;fill:rgb(26.666667%,26.666667%,26.666667%);fill-opacity:1;\" d=\"M 575.871094 376.191406 L 580.792969 390.363281 L 571.527344 390.550781 L 575.871094 376.191406 \"/>\n",
       "<path style=\"fill:none;stroke-width:1;stroke-linecap:butt;stroke-linejoin:miter;stroke:rgb(26.666667%,26.666667%,26.666667%);stroke-opacity:1;stroke-miterlimit:10;\" d=\"M 207.511719 20 L 343.519531 194.960938 \"/>\n",
       "<path style=\" stroke:none;fill-rule:nonzero;fill:rgb(26.666667%,26.666667%,26.666667%);fill-opacity:1;\" d=\"M 352.273438 206.222656 L 339.859375 197.804688 L 347.179688 192.117188 L 352.273438 206.222656 \"/>\n",
       "<path style=\"fill:none;stroke-width:1;stroke-linecap:butt;stroke-linejoin:miter;stroke:rgb(26.666667%,26.666667%,26.666667%);stroke-opacity:1;stroke-miterlimit:10;\" d=\"M 358.410156 214.121094 L 555.789062 352.28125 \"/>\n",
       "<path style=\" stroke:none;fill-rule:nonzero;fill:rgb(26.666667%,26.666667%,26.666667%);fill-opacity:1;\" d=\"M 567.476562 360.460938 L 553.132812 356.078125 L 558.445312 348.480469 L 567.476562 360.460938 \"/>\n",
       "<path style=\"fill-rule:nonzero;fill:rgb(100%,0%,0%);fill-opacity:1;stroke-width:1;stroke-linecap:butt;stroke-linejoin:miter;stroke:rgb(0%,0%,0%);stroke-opacity:1;stroke-miterlimit:10;\" d=\"M 327.546875 463.289062 C 327.546875 468.8125 323.070312 473.289062 317.546875 473.289062 C 312.027344 473.289062 307.546875 468.8125 307.546875 463.289062 C 307.546875 457.765625 312.027344 453.289062 317.546875 453.289062 C 323.070312 453.289062 327.546875 457.765625 327.546875 463.289062 \"/>\n",
       "<path style=\"fill-rule:nonzero;fill:rgb(100%,0%,0%);fill-opacity:1;stroke-width:1;stroke-linecap:butt;stroke-linejoin:miter;stroke:rgb(0%,0%,0%);stroke-opacity:1;stroke-miterlimit:10;\" d=\"M 30 558.691406 C 30 564.214844 25.523438 568.691406 20 568.691406 C 14.476562 568.691406 10 564.214844 10 558.691406 C 10 553.167969 14.476562 548.691406 20 548.691406 C 25.523438 548.691406 30 553.167969 30 558.691406 \"/>\n",
       "<path style=\"fill-rule:nonzero;fill:rgb(100%,0%,0%);fill-opacity:1;stroke-width:1;stroke-linecap:butt;stroke-linejoin:miter;stroke:rgb(0%,0%,0%);stroke-opacity:1;stroke-miterlimit:10;\" d=\"M 590 580 C 590 585.523438 585.523438 590 580 590 C 574.476562 590 570 585.523438 570 580 C 570 574.476562 574.476562 570 580 570 C 585.523438 570 590 574.476562 590 580 \"/>\n",
       "<path style=\"fill-rule:nonzero;fill:rgb(100%,0%,0%);fill-opacity:1;stroke-width:1;stroke-linecap:butt;stroke-linejoin:miter;stroke:rgb(0%,0%,0%);stroke-opacity:1;stroke-miterlimit:10;\" d=\"M 217.511719 20 C 217.511719 25.523438 213.03125 30 207.511719 30 C 201.988281 30 197.511719 25.523438 197.511719 20 C 197.511719 14.476562 201.988281 10 207.511719 10 C 213.03125 10 217.511719 14.476562 217.511719 20 \"/>\n",
       "<path style=\"fill-rule:nonzero;fill:rgb(100%,0%,0%);fill-opacity:1;stroke-width:1;stroke-linecap:butt;stroke-linejoin:miter;stroke:rgb(0%,0%,0%);stroke-opacity:1;stroke-miterlimit:10;\" d=\"M 368.410156 214.121094 C 368.410156 219.640625 363.933594 224.121094 358.410156 224.121094 C 352.886719 224.121094 348.410156 219.640625 348.410156 214.121094 C 348.410156 208.597656 352.886719 204.121094 358.410156 204.121094 C 363.933594 204.121094 368.410156 208.597656 368.410156 214.121094 \"/>\n",
       "<path style=\"fill-rule:nonzero;fill:rgb(100%,0%,0%);fill-opacity:1;stroke-width:1;stroke-linecap:butt;stroke-linejoin:miter;stroke:rgb(0%,0%,0%);stroke-opacity:1;stroke-miterlimit:10;\" d=\"M 585.667969 366.195312 C 585.667969 371.71875 581.191406 376.195312 575.667969 376.195312 C 570.144531 376.195312 565.667969 371.71875 565.667969 366.195312 C 565.667969 360.671875 570.144531 356.195312 575.667969 356.195312 C 581.191406 356.195312 585.667969 360.671875 585.667969 366.195312 \"/>\n",
       "<g style=\"fill:rgb(0%,0%,0%);fill-opacity:1;\">\n",
       "  <use xlink:href=\"#glyph0-1\" x=\"312.757812\" y=\"470.039062\"/>\n",
       "</g>\n",
       "<g style=\"fill:rgb(0%,0%,0%);fill-opacity:1;\">\n",
       "  <use xlink:href=\"#glyph0-2\" x=\"15.007812\" y=\"565.441406\"/>\n",
       "</g>\n",
       "<g style=\"fill:rgb(0%,0%,0%);fill-opacity:1;\">\n",
       "  <use xlink:href=\"#glyph0-3\" x=\"575.101562\" y=\"586.847656\"/>\n",
       "</g>\n",
       "<g style=\"fill:rgb(0%,0%,0%);fill-opacity:1;\">\n",
       "  <use xlink:href=\"#glyph0-4\" x=\"201.847656\" y=\"26.753906\"/>\n",
       "</g>\n",
       "<g style=\"fill:rgb(0%,0%,0%);fill-opacity:1;\">\n",
       "  <use xlink:href=\"#glyph0-5\" x=\"353.746094\" y=\"220.871094\"/>\n",
       "</g>\n",
       "<g style=\"fill:rgb(0%,0%,0%);fill-opacity:1;\">\n",
       "  <use xlink:href=\"#glyph0-6\" x=\"570.878906\" y=\"372.949219\"/>\n",
       "</g>\n",
       "</g>\n",
       "</svg>\n"
      ],
      "text/plain": [
       "<igraph.drawing.Plot at 0x7fc9b87eb208>"
      ]
     },
     "execution_count": 2,
     "metadata": {},
     "output_type": "execute_result"
    }
   ],
   "source": []
  },
  {
   "cell_type": "markdown",
   "metadata": {},
   "source": [
    "Using the `Graph.maxflow` function, compute the max-flow between all possible pairs of distinct vertices. Which pair of vertices have the maximum flow between them? "
   ]
  },
  {
   "cell_type": "code",
   "execution_count": 3,
   "metadata": {
    "collapsed": false
   },
   "outputs": [
    {
     "name": "stdout",
     "output_type": "stream",
     "text": [
      "Maximum flow value is: 3.0; for pair of vertices: A_to_X\n"
     ]
    }
   ],
   "source": []
  }
 ],
 "metadata": {
  "kernelspec": {
   "display_name": "Python 3",
   "language": "python",
   "name": "python3"
  },
  "language_info": {
   "codemirror_mode": {
    "name": "ipython",
    "version": 3
   },
   "file_extension": ".py",
   "mimetype": "text/x-python",
   "name": "python",
   "nbconvert_exporter": "python",
   "pygments_lexer": "ipython3",
   "version": "3.4.3"
  }
 },
 "nbformat": 4,
 "nbformat_minor": 1
}
