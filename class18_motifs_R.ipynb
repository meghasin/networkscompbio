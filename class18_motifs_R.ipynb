{
 "cells": [
  {
   "cell_type": "markdown",
   "metadata": {},
   "source": [
    "# Example implementation of a subgraph enumeration algorithm and motif-counting in R"
   ]
  },
  {
   "cell_type": "markdown",
   "metadata": {},
   "source": [
    "Load the packages that we will need for this exercise, and also set the random number seed"
   ]
  },
  {
   "cell_type": "code",
   "execution_count": 31,
   "metadata": {},
   "outputs": [],
   "source": [
    "suppressPackageStartupMessages(library(igraph))\n",
    "library(plyr)"
   ]
  },
  {
   "cell_type": "markdown",
   "metadata": {},
   "source": [
    "Set the random number seed to ``1337``:"
   ]
  },
  {
   "cell_type": "code",
   "execution_count": 30,
   "metadata": {},
   "outputs": [],
   "source": [
    "set.seed(1337)"
   ]
  },
  {
   "cell_type": "markdown",
   "metadata": {},
   "source": [
    "Write a recursive function ``extend_seqs_by_one_recurser`` that will take an undirected ``igraph::Graph`` object and a list of vertex sequences (each vertex sequence of length ``k' <= max_k``) and make a new, larger list of sequences (each of length ``k' + 1``), each consisting of a one-vertex extension to the subgraph corresponding to the length ``k'`` sequence."
   ]
  },
  {
   "cell_type": "code",
   "execution_count": 2,
   "metadata": {},
   "outputs": [],
   "source": [
    "extend_seqs_by_one_recurser <- function(mygraph, myseqs, k) {\n",
    "    if (k > 1) {\n",
    "        unique(unlist(unlist(lapply(extend_seqs_by_one_recurser(mygraph, myseqs, k-1),\n",
    "                                    function(myseq) {\n",
    "                                        lapply(myseq, function(myvertex) {\n",
    "                                            lapply(setdiff(neighbors(mygraph, myvertex), myseq),\n",
    "                                                   function(myneighbor) {\n",
    "                                                       sort(c(myseq, myneighbor))\n",
    "                                                   })                                            \n",
    "                                        })\n",
    "                                    }),\n",
    "                             recursive=FALSE),\n",
    "                      recursive=FALSE))\n",
    "    } else {\n",
    "        myseqs\n",
    "    }\n",
    "}"
   ]
  },
  {
   "cell_type": "markdown",
   "metadata": {},
   "source": [
    "Write a function ``key_motifs`` that will take a directed ``igraph::Graph`` object ``mydigraph`` and a list ``myseqs`` of subgraphs described by vertex sequences, and computes in and out degree of each of the vertices in each of the subgraphs:"
   ]
  },
  {
   "cell_type": "code",
   "execution_count": null,
   "metadata": {},
   "outputs": [],
   "source": [
    "key_motifs <- function(mydigraph, myseqs) {\n",
    "    lapply(myseqs, function(myseq) {\n",
    "        outdeg_myseq <- sort(sapply(myseq, function(myvert) {sum(mydigraph[myvert, setdiff(myseq, myvert)])}))\n",
    "        indeg_myseq <- sort(sapply(myseq, function(myvert) {sum(mydigraph[setdiff(myseq, myvert), myvert])}))\n",
    "        c(indeg_myseq, outdeg_myseq)\n",
    "    })\n",
    "}"
   ]
  },
  {
   "cell_type": "raw",
   "metadata": {},
   "source": [
    "Make a directed Barabasi-Albert graph with 6 vertices and k=3 edges per vertex.  Print the obligatory graph summary."
   ]
  },
  {
   "cell_type": "code",
   "execution_count": 33,
   "metadata": {},
   "outputs": [
    {
     "name": "stdout",
     "output_type": "stream",
     "text": [
      "IGRAPH a0767d9 D--- 6 12 -- Barabasi graph\n",
      "+ attr: name (g/c), power (g/n), m (g/n), zero.appeal (g/n), algorithm\n",
      "| (g/c)\n"
     ]
    }
   ],
   "source": [
    "nvertices <- 6\n",
    "medges_step <- 3\n",
    "G = sample_pa(n=nvertices, m=medges_step)\n",
    "summary(G)"
   ]
  },
  {
   "cell_type": "markdown",
   "metadata": {},
   "source": [
    "Plot the graph that you created"
   ]
  },
  {
   "cell_type": "code",
   "execution_count": 14,
   "metadata": {},
   "outputs": [
    {
     "data": {
      "image/png": "[encoded data removed]",
      "text/plain": [
       "Plot with title \"\""
      ]
     },
     "metadata": {},
     "output_type": "display_data"
    }
   ],
   "source": [
    "plot(G)"
   ]
  },
  {
   "cell_type": "markdown",
   "metadata": {},
   "source": [
    "Run the function ``extend_seqs_by_one_recurser`` on the undirected version of ``G``, with ``k=3``. Take a look at the results:"
   ]
  },
  {
   "cell_type": "code",
   "execution_count": 15,
   "metadata": {},
   "outputs": [
    {
     "data": {
      "text/html": [
       "<ol>\n",
       "\t<li><ol class=list-inline>\n",
       "\t<li>1</li>\n",
       "\t<li>2</li>\n",
       "\t<li>3</li>\n",
       "</ol>\n",
       "</li>\n",
       "\t<li><ol class=list-inline>\n",
       "\t<li>1</li>\n",
       "\t<li>2</li>\n",
       "\t<li>4</li>\n",
       "</ol>\n",
       "</li>\n",
       "\t<li><ol class=list-inline>\n",
       "\t<li>1</li>\n",
       "\t<li>2</li>\n",
       "\t<li>5</li>\n",
       "</ol>\n",
       "</li>\n",
       "\t<li><ol class=list-inline>\n",
       "\t<li>1</li>\n",
       "\t<li>2</li>\n",
       "\t<li>6</li>\n",
       "</ol>\n",
       "</li>\n",
       "\t<li><ol class=list-inline>\n",
       "\t<li>1</li>\n",
       "\t<li>3</li>\n",
       "\t<li>4</li>\n",
       "</ol>\n",
       "</li>\n",
       "\t<li><ol class=list-inline>\n",
       "\t<li>1</li>\n",
       "\t<li>3</li>\n",
       "\t<li>5</li>\n",
       "</ol>\n",
       "</li>\n",
       "\t<li><ol class=list-inline>\n",
       "\t<li>1</li>\n",
       "\t<li>3</li>\n",
       "\t<li>6</li>\n",
       "</ol>\n",
       "</li>\n",
       "\t<li><ol class=list-inline>\n",
       "\t<li>1</li>\n",
       "\t<li>4</li>\n",
       "\t<li>5</li>\n",
       "</ol>\n",
       "</li>\n",
       "\t<li><ol class=list-inline>\n",
       "\t<li>1</li>\n",
       "\t<li>4</li>\n",
       "\t<li>6</li>\n",
       "</ol>\n",
       "</li>\n",
       "\t<li><ol class=list-inline>\n",
       "\t<li>1</li>\n",
       "\t<li>5</li>\n",
       "\t<li>6</li>\n",
       "</ol>\n",
       "</li>\n",
       "\t<li><ol class=list-inline>\n",
       "\t<li>2</li>\n",
       "\t<li>3</li>\n",
       "\t<li>4</li>\n",
       "</ol>\n",
       "</li>\n",
       "\t<li><ol class=list-inline>\n",
       "\t<li>2</li>\n",
       "\t<li>3</li>\n",
       "\t<li>5</li>\n",
       "</ol>\n",
       "</li>\n",
       "\t<li><ol class=list-inline>\n",
       "\t<li>2</li>\n",
       "\t<li>3</li>\n",
       "\t<li>6</li>\n",
       "</ol>\n",
       "</li>\n",
       "\t<li><ol class=list-inline>\n",
       "\t<li>2</li>\n",
       "\t<li>4</li>\n",
       "\t<li>5</li>\n",
       "</ol>\n",
       "</li>\n",
       "\t<li><ol class=list-inline>\n",
       "\t<li>2</li>\n",
       "\t<li>4</li>\n",
       "\t<li>6</li>\n",
       "</ol>\n",
       "</li>\n",
       "\t<li><ol class=list-inline>\n",
       "\t<li>3</li>\n",
       "\t<li>4</li>\n",
       "\t<li>5</li>\n",
       "</ol>\n",
       "</li>\n",
       "\t<li><ol class=list-inline>\n",
       "\t<li>3</li>\n",
       "\t<li>4</li>\n",
       "\t<li>6</li>\n",
       "</ol>\n",
       "</li>\n",
       "\t<li><ol class=list-inline>\n",
       "\t<li>3</li>\n",
       "\t<li>5</li>\n",
       "\t<li>6</li>\n",
       "</ol>\n",
       "</li>\n",
       "</ol>\n"
      ],
      "text/latex": [
       "\\begin{enumerate}\n",
       "\\item \\begin{enumerate*}\n",
       "\\item 1\n",
       "\\item 2\n",
       "\\item 3\n",
       "\\end{enumerate*}\n",
       "\n",
       "\\item \\begin{enumerate*}\n",
       "\\item 1\n",
       "\\item 2\n",
       "\\item 4\n",
       "\\end{enumerate*}\n",
       "\n",
       "\\item \\begin{enumerate*}\n",
       "\\item 1\n",
       "\\item 2\n",
       "\\item 5\n",
       "\\end{enumerate*}\n",
       "\n",
       "\\item \\begin{enumerate*}\n",
       "\\item 1\n",
       "\\item 2\n",
       "\\item 6\n",
       "\\end{enumerate*}\n",
       "\n",
       "\\item \\begin{enumerate*}\n",
       "\\item 1\n",
       "\\item 3\n",
       "\\item 4\n",
       "\\end{enumerate*}\n",
       "\n",
       "\\item \\begin{enumerate*}\n",
       "\\item 1\n",
       "\\item 3\n",
       "\\item 5\n",
       "\\end{enumerate*}\n",
       "\n",
       "\\item \\begin{enumerate*}\n",
       "\\item 1\n",
       "\\item 3\n",
       "\\item 6\n",
       "\\end{enumerate*}\n",
       "\n",
       "\\item \\begin{enumerate*}\n",
       "\\item 1\n",
       "\\item 4\n",
       "\\item 5\n",
       "\\end{enumerate*}\n",
       "\n",
       "\\item \\begin{enumerate*}\n",
       "\\item 1\n",
       "\\item 4\n",
       "\\item 6\n",
       "\\end{enumerate*}\n",
       "\n",
       "\\item \\begin{enumerate*}\n",
       "\\item 1\n",
       "\\item 5\n",
       "\\item 6\n",
       "\\end{enumerate*}\n",
       "\n",
       "\\item \\begin{enumerate*}\n",
       "\\item 2\n",
       "\\item 3\n",
       "\\item 4\n",
       "\\end{enumerate*}\n",
       "\n",
       "\\item \\begin{enumerate*}\n",
       "\\item 2\n",
       "\\item 3\n",
       "\\item 5\n",
       "\\end{enumerate*}\n",
       "\n",
       "\\item \\begin{enumerate*}\n",
       "\\item 2\n",
       "\\item 3\n",
       "\\item 6\n",
       "\\end{enumerate*}\n",
       "\n",
       "\\item \\begin{enumerate*}\n",
       "\\item 2\n",
       "\\item 4\n",
       "\\item 5\n",
       "\\end{enumerate*}\n",
       "\n",
       "\\item \\begin{enumerate*}\n",
       "\\item 2\n",
       "\\item 4\n",
       "\\item 6\n",
       "\\end{enumerate*}\n",
       "\n",
       "\\item \\begin{enumerate*}\n",
       "\\item 3\n",
       "\\item 4\n",
       "\\item 5\n",
       "\\end{enumerate*}\n",
       "\n",
       "\\item \\begin{enumerate*}\n",
       "\\item 3\n",
       "\\item 4\n",
       "\\item 6\n",
       "\\end{enumerate*}\n",
       "\n",
       "\\item \\begin{enumerate*}\n",
       "\\item 3\n",
       "\\item 5\n",
       "\\item 6\n",
       "\\end{enumerate*}\n",
       "\n",
       "\\end{enumerate}\n"
      ],
      "text/markdown": [
       "1. 1. 1\n",
       "2. 2\n",
       "3. 3\n",
       "\n",
       "\n",
       "\n",
       "2. 1. 1\n",
       "2. 2\n",
       "3. 4\n",
       "\n",
       "\n",
       "\n",
       "3. 1. 1\n",
       "2. 2\n",
       "3. 5\n",
       "\n",
       "\n",
       "\n",
       "4. 1. 1\n",
       "2. 2\n",
       "3. 6\n",
       "\n",
       "\n",
       "\n",
       "5. 1. 1\n",
       "2. 3\n",
       "3. 4\n",
       "\n",
       "\n",
       "\n",
       "6. 1. 1\n",
       "2. 3\n",
       "3. 5\n",
       "\n",
       "\n",
       "\n",
       "7. 1. 1\n",
       "2. 3\n",
       "3. 6\n",
       "\n",
       "\n",
       "\n",
       "8. 1. 1\n",
       "2. 4\n",
       "3. 5\n",
       "\n",
       "\n",
       "\n",
       "9. 1. 1\n",
       "2. 4\n",
       "3. 6\n",
       "\n",
       "\n",
       "\n",
       "10. 1. 1\n",
       "2. 5\n",
       "3. 6\n",
       "\n",
       "\n",
       "\n",
       "11. 1. 2\n",
       "2. 3\n",
       "3. 4\n",
       "\n",
       "\n",
       "\n",
       "12. 1. 2\n",
       "2. 3\n",
       "3. 5\n",
       "\n",
       "\n",
       "\n",
       "13. 1. 2\n",
       "2. 3\n",
       "3. 6\n",
       "\n",
       "\n",
       "\n",
       "14. 1. 2\n",
       "2. 4\n",
       "3. 5\n",
       "\n",
       "\n",
       "\n",
       "15. 1. 2\n",
       "2. 4\n",
       "3. 6\n",
       "\n",
       "\n",
       "\n",
       "16. 1. 3\n",
       "2. 4\n",
       "3. 5\n",
       "\n",
       "\n",
       "\n",
       "17. 1. 3\n",
       "2. 4\n",
       "3. 6\n",
       "\n",
       "\n",
       "\n",
       "18. 1. 3\n",
       "2. 5\n",
       "3. 6\n",
       "\n",
       "\n",
       "\n",
       "\n",
       "\n"
      ],
      "text/plain": [
       "[[1]]\n",
       "[1] 1 2 3\n",
       "\n",
       "[[2]]\n",
       "[1] 1 2 4\n",
       "\n",
       "[[3]]\n",
       "[1] 1 2 5\n",
       "\n",
       "[[4]]\n",
       "[1] 1 2 6\n",
       "\n",
       "[[5]]\n",
       "[1] 1 3 4\n",
       "\n",
       "[[6]]\n",
       "[1] 1 3 5\n",
       "\n",
       "[[7]]\n",
       "[1] 1 3 6\n",
       "\n",
       "[[8]]\n",
       "[1] 1 4 5\n",
       "\n",
       "[[9]]\n",
       "[1] 1 4 6\n",
       "\n",
       "[[10]]\n",
       "[1] 1 5 6\n",
       "\n",
       "[[11]]\n",
       "[1] 2 3 4\n",
       "\n",
       "[[12]]\n",
       "[1] 2 3 5\n",
       "\n",
       "[[13]]\n",
       "[1] 2 3 6\n",
       "\n",
       "[[14]]\n",
       "[1] 2 4 5\n",
       "\n",
       "[[15]]\n",
       "[1] 2 4 6\n",
       "\n",
       "[[16]]\n",
       "[1] 3 4 5\n",
       "\n",
       "[[17]]\n",
       "[1] 3 4 6\n",
       "\n",
       "[[18]]\n",
       "[1] 3 5 6\n"
      ]
     },
     "metadata": {},
     "output_type": "display_data"
    }
   ],
   "source": [
    "subgraphs <- extend_seqs_by_one_recurser(as.undirected(G), 1:nvertices, 3)\n",
    "subgraphs"
   ]
  },
  {
   "cell_type": "markdown",
   "metadata": {},
   "source": [
    "Call ``key_motifs`` on the directed graph ``G`` and the subgraph vertex sequences ``subgraphs``, which will return a list of lists.  Stack the lists into a matrix using ``do.call`` and ``rbind``.  Take a look at your matrix:"
   ]
  },
  {
   "cell_type": "code",
   "execution_count": 29,
   "metadata": {},
   "outputs": [
    {
     "data": {
      "text/html": [
       "<table>\n",
       "<tbody>\n",
       "\t<tr><td>0</td><td>1</td><td>2</td><td>0</td><td>1</td><td>2</td></tr>\n",
       "\t<tr><td>0</td><td>1</td><td>2</td><td>0</td><td>1</td><td>2</td></tr>\n",
       "\t<tr><td>0</td><td>1</td><td>2</td><td>0</td><td>1</td><td>2</td></tr>\n",
       "\t<tr><td>0</td><td>0</td><td>2</td><td>0</td><td>1</td><td>1</td></tr>\n",
       "\t<tr><td>0</td><td>1</td><td>2</td><td>0</td><td>1</td><td>2</td></tr>\n",
       "\t<tr><td>0</td><td>1</td><td>2</td><td>0</td><td>1</td><td>2</td></tr>\n",
       "\t<tr><td>0</td><td>1</td><td>2</td><td>0</td><td>1</td><td>2</td></tr>\n",
       "\t<tr><td>0</td><td>0</td><td>2</td><td>0</td><td>1</td><td>1</td></tr>\n",
       "\t<tr><td>0</td><td>1</td><td>2</td><td>0</td><td>1</td><td>2</td></tr>\n",
       "\t<tr><td>0</td><td>0</td><td>2</td><td>0</td><td>1</td><td>1</td></tr>\n",
       "\t<tr><td>0</td><td>1</td><td>2</td><td>0</td><td>1</td><td>2</td></tr>\n",
       "\t<tr><td>0</td><td>1</td><td>2</td><td>0</td><td>1</td><td>2</td></tr>\n",
       "\t<tr><td>0</td><td>1</td><td>1</td><td>0</td><td>1</td><td>1</td></tr>\n",
       "\t<tr><td>0</td><td>0</td><td>2</td><td>0</td><td>1</td><td>1</td></tr>\n",
       "\t<tr><td>0</td><td>1</td><td>1</td><td>0</td><td>1</td><td>1</td></tr>\n",
       "\t<tr><td>0</td><td>0</td><td>2</td><td>0</td><td>1</td><td>1</td></tr>\n",
       "\t<tr><td>0</td><td>1</td><td>2</td><td>0</td><td>1</td><td>2</td></tr>\n",
       "\t<tr><td>0</td><td>0</td><td>2</td><td>0</td><td>1</td><td>1</td></tr>\n",
       "</tbody>\n",
       "</table>\n"
      ],
      "text/latex": [
       "\\begin{tabular}{llllll}\n",
       "\t 0 & 1 & 2 & 0 & 1 & 2\\\\\n",
       "\t 0 & 1 & 2 & 0 & 1 & 2\\\\\n",
       "\t 0 & 1 & 2 & 0 & 1 & 2\\\\\n",
       "\t 0 & 0 & 2 & 0 & 1 & 1\\\\\n",
       "\t 0 & 1 & 2 & 0 & 1 & 2\\\\\n",
       "\t 0 & 1 & 2 & 0 & 1 & 2\\\\\n",
       "\t 0 & 1 & 2 & 0 & 1 & 2\\\\\n",
       "\t 0 & 0 & 2 & 0 & 1 & 1\\\\\n",
       "\t 0 & 1 & 2 & 0 & 1 & 2\\\\\n",
       "\t 0 & 0 & 2 & 0 & 1 & 1\\\\\n",
       "\t 0 & 1 & 2 & 0 & 1 & 2\\\\\n",
       "\t 0 & 1 & 2 & 0 & 1 & 2\\\\\n",
       "\t 0 & 1 & 1 & 0 & 1 & 1\\\\\n",
       "\t 0 & 0 & 2 & 0 & 1 & 1\\\\\n",
       "\t 0 & 1 & 1 & 0 & 1 & 1\\\\\n",
       "\t 0 & 0 & 2 & 0 & 1 & 1\\\\\n",
       "\t 0 & 1 & 2 & 0 & 1 & 2\\\\\n",
       "\t 0 & 0 & 2 & 0 & 1 & 1\\\\\n",
       "\\end{tabular}\n"
      ],
      "text/markdown": [
       "\n",
       "| 0 | 1 | 2 | 0 | 1 | 2 | \n",
       "| 0 | 1 | 2 | 0 | 1 | 2 | \n",
       "| 0 | 1 | 2 | 0 | 1 | 2 | \n",
       "| 0 | 0 | 2 | 0 | 1 | 1 | \n",
       "| 0 | 1 | 2 | 0 | 1 | 2 | \n",
       "| 0 | 1 | 2 | 0 | 1 | 2 | \n",
       "| 0 | 1 | 2 | 0 | 1 | 2 | \n",
       "| 0 | 0 | 2 | 0 | 1 | 1 | \n",
       "| 0 | 1 | 2 | 0 | 1 | 2 | \n",
       "| 0 | 0 | 2 | 0 | 1 | 1 | \n",
       "| 0 | 1 | 2 | 0 | 1 | 2 | \n",
       "| 0 | 1 | 2 | 0 | 1 | 2 | \n",
       "| 0 | 1 | 1 | 0 | 1 | 1 | \n",
       "| 0 | 0 | 2 | 0 | 1 | 1 | \n",
       "| 0 | 1 | 1 | 0 | 1 | 1 | \n",
       "| 0 | 0 | 2 | 0 | 1 | 1 | \n",
       "| 0 | 1 | 2 | 0 | 1 | 2 | \n",
       "| 0 | 0 | 2 | 0 | 1 | 1 | \n",
       "\n",
       "\n"
      ],
      "text/plain": [
       "      [,1] [,2] [,3] [,4] [,5] [,6]\n",
       " [1,] 0    1    2    0    1    2   \n",
       " [2,] 0    1    2    0    1    2   \n",
       " [3,] 0    1    2    0    1    2   \n",
       " [4,] 0    0    2    0    1    1   \n",
       " [5,] 0    1    2    0    1    2   \n",
       " [6,] 0    1    2    0    1    2   \n",
       " [7,] 0    1    2    0    1    2   \n",
       " [8,] 0    0    2    0    1    1   \n",
       " [9,] 0    1    2    0    1    2   \n",
       "[10,] 0    0    2    0    1    1   \n",
       "[11,] 0    1    2    0    1    2   \n",
       "[12,] 0    1    2    0    1    2   \n",
       "[13,] 0    1    1    0    1    1   \n",
       "[14,] 0    0    2    0    1    1   \n",
       "[15,] 0    1    1    0    1    1   \n",
       "[16,] 0    0    2    0    1    1   \n",
       "[17,] 0    1    2    0    1    2   \n",
       "[18,] 0    0    2    0    1    1   "
      ]
     },
     "metadata": {},
     "output_type": "display_data"
    }
   ],
   "source": [
    "list_of_lists <- key_motifs(G, extend_seqs_by_one_recurser(as.undirected(G), 1:nvertices, 3))\n",
    "subgraph_degree_counts <- do.call(rbind, list_of_lists)\n",
    "subgraph_degree_counts"
   ]
  },
  {
   "cell_type": "markdown",
   "metadata": {},
   "source": [
    "Make a ``data.frame`` out of the ``subgraph_degree_counts`` matrix and tabulate the number of times each unique row appears, using ``plyr::count``:"
   ]
  },
  {
   "cell_type": "code",
   "execution_count": 35,
   "metadata": {},
   "outputs": [
    {
     "data": {
      "text/html": [
       "<table>\n",
       "<thead><tr><th scope=col>X1</th><th scope=col>X2</th><th scope=col>X3</th><th scope=col>X4</th><th scope=col>X5</th><th scope=col>X6</th><th scope=col>freq</th></tr></thead>\n",
       "<tbody>\n",
       "\t<tr><td>0 </td><td>0 </td><td>2 </td><td>0 </td><td>1 </td><td>1 </td><td> 6</td></tr>\n",
       "\t<tr><td>0 </td><td>1 </td><td>1 </td><td>0 </td><td>1 </td><td>1 </td><td> 2</td></tr>\n",
       "\t<tr><td>0 </td><td>1 </td><td>2 </td><td>0 </td><td>1 </td><td>2 </td><td>10</td></tr>\n",
       "</tbody>\n",
       "</table>\n"
      ],
      "text/latex": [
       "\\begin{tabular}{r|lllllll}\n",
       " X1 & X2 & X3 & X4 & X5 & X6 & freq\\\\\n",
       "\\hline\n",
       "\t 0  & 0  & 2  & 0  & 1  & 1  &  6\\\\\n",
       "\t 0  & 1  & 1  & 0  & 1  & 1  &  2\\\\\n",
       "\t 0  & 1  & 2  & 0  & 1  & 2  & 10\\\\\n",
       "\\end{tabular}\n"
      ],
      "text/markdown": [
       "\n",
       "X1 | X2 | X3 | X4 | X5 | X6 | freq | \n",
       "|---|---|---|\n",
       "| 0  | 0  | 2  | 0  | 1  | 1  |  6 | \n",
       "| 0  | 1  | 1  | 0  | 1  | 1  |  2 | \n",
       "| 0  | 1  | 2  | 0  | 1  | 2  | 10 | \n",
       "\n",
       "\n"
      ],
      "text/plain": [
       "  X1 X2 X3 X4 X5 X6 freq\n",
       "1 0  0  2  0  1  1   6  \n",
       "2 0  1  1  0  1  1   2  \n",
       "3 0  1  2  0  1  2  10  "
      ]
     },
     "metadata": {},
     "output_type": "display_data"
    }
   ],
   "source": [
    "plyr::count(data.frame(subgraph_degree_counts))"
   ]
  },
  {
   "cell_type": "markdown",
   "metadata": {},
   "source": [
    "Compare to the counts from calling ``igraph::motifs`` on ``G``, with the default ``k=3``:"
   ]
  },
  {
   "cell_type": "code",
   "execution_count": 36,
   "metadata": {},
   "outputs": [
    {
     "data": {
      "text/html": [
       "<ol class=list-inline>\n",
       "\t<li>&lt;NA&gt;</li>\n",
       "\t<li>&lt;NA&gt;</li>\n",
       "\t<li>4</li>\n",
       "\t<li>&lt;NA&gt;</li>\n",
       "\t<li>4</li>\n",
       "\t<li>0</li>\n",
       "\t<li>0</li>\n",
       "\t<li>10</li>\n",
       "\t<li>0</li>\n",
       "\t<li>0</li>\n",
       "\t<li>0</li>\n",
       "\t<li>0</li>\n",
       "\t<li>0</li>\n",
       "\t<li>0</li>\n",
       "\t<li>0</li>\n",
       "\t<li>0</li>\n",
       "</ol>\n"
      ],
      "text/latex": [
       "\\begin{enumerate*}\n",
       "\\item <NA>\n",
       "\\item <NA>\n",
       "\\item 4\n",
       "\\item <NA>\n",
       "\\item 4\n",
       "\\item 0\n",
       "\\item 0\n",
       "\\item 10\n",
       "\\item 0\n",
       "\\item 0\n",
       "\\item 0\n",
       "\\item 0\n",
       "\\item 0\n",
       "\\item 0\n",
       "\\item 0\n",
       "\\item 0\n",
       "\\end{enumerate*}\n"
      ],
      "text/markdown": [
       "1. &lt;NA&gt;\n",
       "2. &lt;NA&gt;\n",
       "3. 4\n",
       "4. &lt;NA&gt;\n",
       "5. 4\n",
       "6. 0\n",
       "7. 0\n",
       "8. 10\n",
       "9. 0\n",
       "10. 0\n",
       "11. 0\n",
       "12. 0\n",
       "13. 0\n",
       "14. 0\n",
       "15. 0\n",
       "16. 0\n",
       "\n",
       "\n"
      ],
      "text/plain": [
       " [1] NA NA  4 NA  4  0  0 10  0  0  0  0  0  0  0  0"
      ]
     },
     "metadata": {},
     "output_type": "display_data"
    }
   ],
   "source": [
    "motifs(G)"
   ]
  },
  {
   "cell_type": "markdown",
   "metadata": {},
   "source": [
    "Now let's do a **four-vertex motif**count on the same graph, by nesting the various function calls that we used for the subgraph motif analysis with ``k=3`` above:"
   ]
  },
  {
   "cell_type": "code",
   "execution_count": 37,
   "metadata": {},
   "outputs": [
    {
     "data": {
      "text/html": [
       "<table>\n",
       "<thead><tr><th scope=col>X1</th><th scope=col>X2</th><th scope=col>X3</th><th scope=col>X4</th><th scope=col>X5</th><th scope=col>X6</th><th scope=col>X7</th><th scope=col>X8</th><th scope=col>freq</th></tr></thead>\n",
       "<tbody>\n",
       "\t<tr><td>0</td><td>0</td><td>1</td><td>2</td><td>0</td><td>1</td><td>1</td><td>1</td><td>1</td></tr>\n",
       "\t<tr><td>0</td><td>0</td><td>1</td><td>3</td><td>0</td><td>1</td><td>1</td><td>2</td><td>2</td></tr>\n",
       "\t<tr><td>0</td><td>0</td><td>2</td><td>3</td><td>0</td><td>1</td><td>2</td><td>2</td><td>1</td></tr>\n",
       "\t<tr><td>0</td><td>1</td><td>1</td><td>2</td><td>0</td><td>1</td><td>1</td><td>2</td><td>2</td></tr>\n",
       "\t<tr><td>0</td><td>1</td><td>1</td><td>3</td><td>0</td><td>1</td><td>2</td><td>2</td><td>5</td></tr>\n",
       "\t<tr><td>0</td><td>1</td><td>2</td><td>2</td><td>0</td><td>1</td><td>2</td><td>2</td><td>1</td></tr>\n",
       "\t<tr><td>0</td><td>1</td><td>2</td><td>3</td><td>0</td><td>1</td><td>2</td><td>3</td><td>3</td></tr>\n",
       "</tbody>\n",
       "</table>\n"
      ],
      "text/latex": [
       "\\begin{tabular}{r|lllllllll}\n",
       " X1 & X2 & X3 & X4 & X5 & X6 & X7 & X8 & freq\\\\\n",
       "\\hline\n",
       "\t 0 & 0 & 1 & 2 & 0 & 1 & 1 & 1 & 1\\\\\n",
       "\t 0 & 0 & 1 & 3 & 0 & 1 & 1 & 2 & 2\\\\\n",
       "\t 0 & 0 & 2 & 3 & 0 & 1 & 2 & 2 & 1\\\\\n",
       "\t 0 & 1 & 1 & 2 & 0 & 1 & 1 & 2 & 2\\\\\n",
       "\t 0 & 1 & 1 & 3 & 0 & 1 & 2 & 2 & 5\\\\\n",
       "\t 0 & 1 & 2 & 2 & 0 & 1 & 2 & 2 & 1\\\\\n",
       "\t 0 & 1 & 2 & 3 & 0 & 1 & 2 & 3 & 3\\\\\n",
       "\\end{tabular}\n"
      ],
      "text/markdown": [
       "\n",
       "X1 | X2 | X3 | X4 | X5 | X6 | X7 | X8 | freq | \n",
       "|---|---|---|---|---|---|---|\n",
       "| 0 | 0 | 1 | 2 | 0 | 1 | 1 | 1 | 1 | \n",
       "| 0 | 0 | 1 | 3 | 0 | 1 | 1 | 2 | 2 | \n",
       "| 0 | 0 | 2 | 3 | 0 | 1 | 2 | 2 | 1 | \n",
       "| 0 | 1 | 1 | 2 | 0 | 1 | 1 | 2 | 2 | \n",
       "| 0 | 1 | 1 | 3 | 0 | 1 | 2 | 2 | 5 | \n",
       "| 0 | 1 | 2 | 2 | 0 | 1 | 2 | 2 | 1 | \n",
       "| 0 | 1 | 2 | 3 | 0 | 1 | 2 | 3 | 3 | \n",
       "\n",
       "\n"
      ],
      "text/plain": [
       "  X1 X2 X3 X4 X5 X6 X7 X8 freq\n",
       "1 0  0  1  2  0  1  1  1  1   \n",
       "2 0  0  1  3  0  1  1  2  2   \n",
       "3 0  0  2  3  0  1  2  2  1   \n",
       "4 0  1  1  2  0  1  1  2  2   \n",
       "5 0  1  1  3  0  1  2  2  5   \n",
       "6 0  1  2  2  0  1  2  2  1   \n",
       "7 0  1  2  3  0  1  2  3  3   "
      ]
     },
     "metadata": {},
     "output_type": "display_data"
    }
   ],
   "source": [
    "plyr::count(data.frame(do.call(rbind, key_motifs(G, extend_seqs_by_one_recurser(as.undirected(G), 1:nvertices, 4)))))"
   ]
  },
  {
   "cell_type": "markdown",
   "metadata": {},
   "source": [
    "Let's compare to what we get when we call ``igraph::motifs`` on ``G``, using ``k=4`` (omit all ``NA`` values and ``0`` counts, and display only the nonzero counts returned). You may find it helpful to use the function ``na.omit``:"
   ]
  },
  {
   "cell_type": "code",
   "execution_count": 38,
   "metadata": {},
   "outputs": [
    {
     "data": {
      "text/html": [
       "<ol class=list-inline>\n",
       "\t<li>1</li>\n",
       "\t<li>2</li>\n",
       "\t<li>1</li>\n",
       "\t<li>1</li>\n",
       "\t<li>1</li>\n",
       "\t<li>5</li>\n",
       "\t<li>1</li>\n",
       "\t<li>3</li>\n",
       "</ol>\n"
      ],
      "text/latex": [
       "\\begin{enumerate*}\n",
       "\\item 1\n",
       "\\item 2\n",
       "\\item 1\n",
       "\\item 1\n",
       "\\item 1\n",
       "\\item 5\n",
       "\\item 1\n",
       "\\item 3\n",
       "\\end{enumerate*}\n"
      ],
      "text/markdown": [
       "1. 1\n",
       "2. 2\n",
       "3. 1\n",
       "4. 1\n",
       "5. 1\n",
       "6. 5\n",
       "7. 1\n",
       "8. 3\n",
       "\n",
       "\n"
      ],
      "text/plain": [
       "[1] 1 2 1 1 1 5 1 3"
      ]
     },
     "metadata": {},
     "output_type": "display_data"
    }
   ],
   "source": [
    "counts <- na.omit(motifs(G,4))\n",
    "counts[counts > 0]"
   ]
  },
  {
   "cell_type": "code",
   "execution_count": 39,
   "metadata": {},
   "outputs": [],
   "source": [
    "?motifs"
   ]
  },
  {
   "cell_type": "markdown",
   "metadata": {},
   "source": [
    "Did the R code correctly calculate the subgraph motif counts?"
   ]
  }
 ],
 "metadata": {
  "kernelspec": {
   "display_name": "R",
   "language": "R",
   "name": "ir"
  },
  "language_info": {
   "codemirror_mode": "r",
   "file_extension": ".r",
   "mimetype": "text/x-r-source",
   "name": "R",
   "pygments_lexer": "r",
   "version": "3.4.1"
  }
 },
 "nbformat": 4,
 "nbformat_minor": 1
}
